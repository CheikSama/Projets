{
 "cells": [
  {
   "cell_type": "markdown",
   "metadata": {},
   "source": [
    "# Introduction à l'exploration intéractive de données avec Python et Pandas\n",
    "\n",
    "Auteur: Valentin Barriere\n",
    "\n",
    "Objectif: Comprendre le contenu des données, la structure, les problèmes (données manquantes / aberrantes)\n",
    "\n",
    "Inspiré des travaux d'Alexandre Gramfort"
   ]
  },
  {
   "cell_type": "markdown",
   "metadata": {},
   "source": [
    "### Les données:\n",
    "\n",
    "MovieLens 1M Data Set contient les notes attribuées à des films par des utilisateurs du site Movielens. Les données sont fournies, mais peuvent être trouvées, si besoin, à l'adresse: http://grouplens.org/datasets/movielens/"
   ]
  },
  {
   "cell_type": "markdown",
   "metadata": {},
   "source": [
    "### Chargement de packages utiles"
   ]
  },
  {
   "cell_type": "code",
   "execution_count": 2,
   "metadata": {},
   "outputs": [],
   "source": [
    "import pandas as pd  #pour l'exploration de données\n",
    "import numpy as np   #pour les operations numeriques (type Matlab)"
   ]
  },
  {
   "cell_type": "markdown",
   "metadata": {},
   "source": [
    "### Lire les données \"users\" dans un DataFrame Pandas"
   ]
  },
  {
   "cell_type": "code",
   "execution_count": 3,
   "metadata": {},
   "outputs": [],
   "source": [
    "unames = ['user_id', 'gender', 'age', 'occupation', 'zip']\n",
    "users = pd.read_csv('users.dat', sep='::', header=None, names=unames, engine='python')"
   ]
  },
  {
   "cell_type": "code",
   "execution_count": 4,
   "metadata": {},
   "outputs": [
    {
     "data": {
      "text/html": [
       "<div>\n",
       "<style scoped>\n",
       "    .dataframe tbody tr th:only-of-type {\n",
       "        vertical-align: middle;\n",
       "    }\n",
       "\n",
       "    .dataframe tbody tr th {\n",
       "        vertical-align: top;\n",
       "    }\n",
       "\n",
       "    .dataframe thead th {\n",
       "        text-align: right;\n",
       "    }\n",
       "</style>\n",
       "<table border=\"1\" class=\"dataframe\">\n",
       "  <thead>\n",
       "    <tr style=\"text-align: right;\">\n",
       "      <th></th>\n",
       "      <th>user_id</th>\n",
       "      <th>gender</th>\n",
       "      <th>age</th>\n",
       "      <th>occupation</th>\n",
       "      <th>zip</th>\n",
       "    </tr>\n",
       "  </thead>\n",
       "  <tbody>\n",
       "    <tr>\n",
       "      <th>0</th>\n",
       "      <td>1</td>\n",
       "      <td>F</td>\n",
       "      <td>1</td>\n",
       "      <td>10</td>\n",
       "      <td>48067</td>\n",
       "    </tr>\n",
       "    <tr>\n",
       "      <th>1</th>\n",
       "      <td>2</td>\n",
       "      <td>M</td>\n",
       "      <td>56</td>\n",
       "      <td>16</td>\n",
       "      <td>70072</td>\n",
       "    </tr>\n",
       "    <tr>\n",
       "      <th>2</th>\n",
       "      <td>3</td>\n",
       "      <td>M</td>\n",
       "      <td>25</td>\n",
       "      <td>15</td>\n",
       "      <td>55117</td>\n",
       "    </tr>\n",
       "    <tr>\n",
       "      <th>3</th>\n",
       "      <td>4</td>\n",
       "      <td>M</td>\n",
       "      <td>45</td>\n",
       "      <td>7</td>\n",
       "      <td>02460</td>\n",
       "    </tr>\n",
       "    <tr>\n",
       "      <th>4</th>\n",
       "      <td>5</td>\n",
       "      <td>M</td>\n",
       "      <td>25</td>\n",
       "      <td>20</td>\n",
       "      <td>55455</td>\n",
       "    </tr>\n",
       "  </tbody>\n",
       "</table>\n",
       "</div>"
      ],
      "text/plain": [
       "   user_id gender  age  occupation    zip\n",
       "0        1      F    1          10  48067\n",
       "1        2      M   56          16  70072\n",
       "2        3      M   25          15  55117\n",
       "3        4      M   45           7  02460\n",
       "4        5      M   25          20  55455"
      ]
     },
     "execution_count": 4,
     "metadata": {},
     "output_type": "execute_result"
    }
   ],
   "source": [
    "users.head() # head() permet de n'afficher que les premieres lignes pour la visualisation"
   ]
  },
  {
   "cell_type": "markdown",
   "metadata": {},
   "source": [
    "### Lire les données \"rating\" dans un DataFrame Pandas"
   ]
  },
  {
   "cell_type": "code",
   "execution_count": 5,
   "metadata": {},
   "outputs": [],
   "source": [
    "rnames = ['user_id', 'movie_id', 'rating', 'timestamp']\n",
    "ratings = pd.read_csv('ratings.dat', sep='::', header=None, names=rnames, engine='python')"
   ]
  },
  {
   "cell_type": "code",
   "execution_count": 6,
   "metadata": {},
   "outputs": [
    {
     "data": {
      "text/html": [
       "<div>\n",
       "<style scoped>\n",
       "    .dataframe tbody tr th:only-of-type {\n",
       "        vertical-align: middle;\n",
       "    }\n",
       "\n",
       "    .dataframe tbody tr th {\n",
       "        vertical-align: top;\n",
       "    }\n",
       "\n",
       "    .dataframe thead th {\n",
       "        text-align: right;\n",
       "    }\n",
       "</style>\n",
       "<table border=\"1\" class=\"dataframe\">\n",
       "  <thead>\n",
       "    <tr style=\"text-align: right;\">\n",
       "      <th></th>\n",
       "      <th>user_id</th>\n",
       "      <th>movie_id</th>\n",
       "      <th>rating</th>\n",
       "      <th>timestamp</th>\n",
       "    </tr>\n",
       "  </thead>\n",
       "  <tbody>\n",
       "    <tr>\n",
       "      <th>0</th>\n",
       "      <td>1</td>\n",
       "      <td>1193</td>\n",
       "      <td>5</td>\n",
       "      <td>978300760</td>\n",
       "    </tr>\n",
       "    <tr>\n",
       "      <th>1</th>\n",
       "      <td>1</td>\n",
       "      <td>661</td>\n",
       "      <td>3</td>\n",
       "      <td>978302109</td>\n",
       "    </tr>\n",
       "    <tr>\n",
       "      <th>2</th>\n",
       "      <td>1</td>\n",
       "      <td>914</td>\n",
       "      <td>3</td>\n",
       "      <td>978301968</td>\n",
       "    </tr>\n",
       "    <tr>\n",
       "      <th>3</th>\n",
       "      <td>1</td>\n",
       "      <td>3408</td>\n",
       "      <td>4</td>\n",
       "      <td>978300275</td>\n",
       "    </tr>\n",
       "    <tr>\n",
       "      <th>4</th>\n",
       "      <td>1</td>\n",
       "      <td>2355</td>\n",
       "      <td>5</td>\n",
       "      <td>978824291</td>\n",
       "    </tr>\n",
       "    <tr>\n",
       "      <th>5</th>\n",
       "      <td>1</td>\n",
       "      <td>1197</td>\n",
       "      <td>3</td>\n",
       "      <td>978302268</td>\n",
       "    </tr>\n",
       "    <tr>\n",
       "      <th>6</th>\n",
       "      <td>1</td>\n",
       "      <td>1287</td>\n",
       "      <td>5</td>\n",
       "      <td>978302039</td>\n",
       "    </tr>\n",
       "    <tr>\n",
       "      <th>7</th>\n",
       "      <td>1</td>\n",
       "      <td>2804</td>\n",
       "      <td>5</td>\n",
       "      <td>978300719</td>\n",
       "    </tr>\n",
       "    <tr>\n",
       "      <th>8</th>\n",
       "      <td>1</td>\n",
       "      <td>594</td>\n",
       "      <td>4</td>\n",
       "      <td>978302268</td>\n",
       "    </tr>\n",
       "    <tr>\n",
       "      <th>9</th>\n",
       "      <td>1</td>\n",
       "      <td>919</td>\n",
       "      <td>4</td>\n",
       "      <td>978301368</td>\n",
       "    </tr>\n",
       "  </tbody>\n",
       "</table>\n",
       "</div>"
      ],
      "text/plain": [
       "   user_id  movie_id  rating  timestamp\n",
       "0        1      1193       5  978300760\n",
       "1        1       661       3  978302109\n",
       "2        1       914       3  978301968\n",
       "3        1      3408       4  978300275\n",
       "4        1      2355       5  978824291\n",
       "5        1      1197       3  978302268\n",
       "6        1      1287       5  978302039\n",
       "7        1      2804       5  978300719\n",
       "8        1       594       4  978302268\n",
       "9        1       919       4  978301368"
      ]
     },
     "execution_count": 6,
     "metadata": {},
     "output_type": "execute_result"
    }
   ],
   "source": [
    "ratings.head(10)"
   ]
  },
  {
   "cell_type": "markdown",
   "metadata": {},
   "source": [
    "### Lire les données sur les films  dans un  Data Frame Pandas"
   ]
  },
  {
   "cell_type": "code",
   "execution_count": 7,
   "metadata": {},
   "outputs": [],
   "source": [
    "mnames = ['movie_id', 'title', 'genres']\n",
    "movies = pd.read_csv('movies.dat', sep='::', header=None, names=mnames, engine='python')"
   ]
  },
  {
   "cell_type": "code",
   "execution_count": 8,
   "metadata": {},
   "outputs": [
    {
     "data": {
      "text/html": [
       "<div>\n",
       "<style scoped>\n",
       "    .dataframe tbody tr th:only-of-type {\n",
       "        vertical-align: middle;\n",
       "    }\n",
       "\n",
       "    .dataframe tbody tr th {\n",
       "        vertical-align: top;\n",
       "    }\n",
       "\n",
       "    .dataframe thead th {\n",
       "        text-align: right;\n",
       "    }\n",
       "</style>\n",
       "<table border=\"1\" class=\"dataframe\">\n",
       "  <thead>\n",
       "    <tr style=\"text-align: right;\">\n",
       "      <th></th>\n",
       "      <th>movie_id</th>\n",
       "      <th>title</th>\n",
       "      <th>genres</th>\n",
       "    </tr>\n",
       "  </thead>\n",
       "  <tbody>\n",
       "    <tr>\n",
       "      <th>0</th>\n",
       "      <td>1</td>\n",
       "      <td>Toy Story (1995)</td>\n",
       "      <td>Animation|Children's|Comedy</td>\n",
       "    </tr>\n",
       "    <tr>\n",
       "      <th>1</th>\n",
       "      <td>2</td>\n",
       "      <td>Jumanji (1995)</td>\n",
       "      <td>Adventure|Children's|Fantasy</td>\n",
       "    </tr>\n",
       "    <tr>\n",
       "      <th>2</th>\n",
       "      <td>3</td>\n",
       "      <td>Grumpier Old Men (1995)</td>\n",
       "      <td>Comedy|Romance</td>\n",
       "    </tr>\n",
       "    <tr>\n",
       "      <th>3</th>\n",
       "      <td>4</td>\n",
       "      <td>Waiting to Exhale (1995)</td>\n",
       "      <td>Comedy|Drama</td>\n",
       "    </tr>\n",
       "    <tr>\n",
       "      <th>4</th>\n",
       "      <td>5</td>\n",
       "      <td>Father of the Bride Part II (1995)</td>\n",
       "      <td>Comedy</td>\n",
       "    </tr>\n",
       "    <tr>\n",
       "      <th>5</th>\n",
       "      <td>6</td>\n",
       "      <td>Heat (1995)</td>\n",
       "      <td>Action|Crime|Thriller</td>\n",
       "    </tr>\n",
       "    <tr>\n",
       "      <th>6</th>\n",
       "      <td>7</td>\n",
       "      <td>Sabrina (1995)</td>\n",
       "      <td>Comedy|Romance</td>\n",
       "    </tr>\n",
       "    <tr>\n",
       "      <th>7</th>\n",
       "      <td>8</td>\n",
       "      <td>Tom and Huck (1995)</td>\n",
       "      <td>Adventure|Children's</td>\n",
       "    </tr>\n",
       "    <tr>\n",
       "      <th>8</th>\n",
       "      <td>9</td>\n",
       "      <td>Sudden Death (1995)</td>\n",
       "      <td>Action</td>\n",
       "    </tr>\n",
       "    <tr>\n",
       "      <th>9</th>\n",
       "      <td>10</td>\n",
       "      <td>GoldenEye (1995)</td>\n",
       "      <td>Action|Adventure|Thriller</td>\n",
       "    </tr>\n",
       "  </tbody>\n",
       "</table>\n",
       "</div>"
      ],
      "text/plain": [
       "   movie_id                               title                        genres\n",
       "0         1                    Toy Story (1995)   Animation|Children's|Comedy\n",
       "1         2                      Jumanji (1995)  Adventure|Children's|Fantasy\n",
       "2         3             Grumpier Old Men (1995)                Comedy|Romance\n",
       "3         4            Waiting to Exhale (1995)                  Comedy|Drama\n",
       "4         5  Father of the Bride Part II (1995)                        Comedy\n",
       "5         6                         Heat (1995)         Action|Crime|Thriller\n",
       "6         7                      Sabrina (1995)                Comedy|Romance\n",
       "7         8                 Tom and Huck (1995)          Adventure|Children's\n",
       "8         9                 Sudden Death (1995)                        Action\n",
       "9        10                    GoldenEye (1995)     Action|Adventure|Thriller"
      ]
     },
     "execution_count": 8,
     "metadata": {},
     "output_type": "execute_result"
    }
   ],
   "source": [
    "movies.head(10)"
   ]
  },
  {
   "cell_type": "markdown",
   "metadata": {},
   "source": [
    "### Fusion des données en un seul DataFrame"
   ]
  },
  {
   "cell_type": "code",
   "execution_count": 9,
   "metadata": {},
   "outputs": [],
   "source": [
    "data = pd.merge(pd.merge(ratings, users), movies)"
   ]
  },
  {
   "cell_type": "code",
   "execution_count": 10,
   "metadata": {},
   "outputs": [
    {
     "data": {
      "text/html": [
       "<div>\n",
       "<style scoped>\n",
       "    .dataframe tbody tr th:only-of-type {\n",
       "        vertical-align: middle;\n",
       "    }\n",
       "\n",
       "    .dataframe tbody tr th {\n",
       "        vertical-align: top;\n",
       "    }\n",
       "\n",
       "    .dataframe thead th {\n",
       "        text-align: right;\n",
       "    }\n",
       "</style>\n",
       "<table border=\"1\" class=\"dataframe\">\n",
       "  <thead>\n",
       "    <tr style=\"text-align: right;\">\n",
       "      <th></th>\n",
       "      <th>user_id</th>\n",
       "      <th>movie_id</th>\n",
       "      <th>rating</th>\n",
       "      <th>timestamp</th>\n",
       "      <th>gender</th>\n",
       "      <th>age</th>\n",
       "      <th>occupation</th>\n",
       "      <th>zip</th>\n",
       "      <th>title</th>\n",
       "      <th>genres</th>\n",
       "    </tr>\n",
       "  </thead>\n",
       "  <tbody>\n",
       "    <tr>\n",
       "      <th>0</th>\n",
       "      <td>1</td>\n",
       "      <td>1193</td>\n",
       "      <td>5</td>\n",
       "      <td>978300760</td>\n",
       "      <td>F</td>\n",
       "      <td>1</td>\n",
       "      <td>10</td>\n",
       "      <td>48067</td>\n",
       "      <td>One Flew Over the Cuckoo's Nest (1975)</td>\n",
       "      <td>Drama</td>\n",
       "    </tr>\n",
       "    <tr>\n",
       "      <th>1</th>\n",
       "      <td>2</td>\n",
       "      <td>1193</td>\n",
       "      <td>5</td>\n",
       "      <td>978298413</td>\n",
       "      <td>M</td>\n",
       "      <td>56</td>\n",
       "      <td>16</td>\n",
       "      <td>70072</td>\n",
       "      <td>One Flew Over the Cuckoo's Nest (1975)</td>\n",
       "      <td>Drama</td>\n",
       "    </tr>\n",
       "    <tr>\n",
       "      <th>2</th>\n",
       "      <td>12</td>\n",
       "      <td>1193</td>\n",
       "      <td>4</td>\n",
       "      <td>978220179</td>\n",
       "      <td>M</td>\n",
       "      <td>25</td>\n",
       "      <td>12</td>\n",
       "      <td>32793</td>\n",
       "      <td>One Flew Over the Cuckoo's Nest (1975)</td>\n",
       "      <td>Drama</td>\n",
       "    </tr>\n",
       "    <tr>\n",
       "      <th>3</th>\n",
       "      <td>15</td>\n",
       "      <td>1193</td>\n",
       "      <td>4</td>\n",
       "      <td>978199279</td>\n",
       "      <td>M</td>\n",
       "      <td>25</td>\n",
       "      <td>7</td>\n",
       "      <td>22903</td>\n",
       "      <td>One Flew Over the Cuckoo's Nest (1975)</td>\n",
       "      <td>Drama</td>\n",
       "    </tr>\n",
       "    <tr>\n",
       "      <th>4</th>\n",
       "      <td>17</td>\n",
       "      <td>1193</td>\n",
       "      <td>5</td>\n",
       "      <td>978158471</td>\n",
       "      <td>M</td>\n",
       "      <td>50</td>\n",
       "      <td>1</td>\n",
       "      <td>95350</td>\n",
       "      <td>One Flew Over the Cuckoo's Nest (1975)</td>\n",
       "      <td>Drama</td>\n",
       "    </tr>\n",
       "  </tbody>\n",
       "</table>\n",
       "</div>"
      ],
      "text/plain": [
       "   user_id  movie_id  rating  timestamp gender  age  occupation    zip  \\\n",
       "0        1      1193       5  978300760      F    1          10  48067   \n",
       "1        2      1193       5  978298413      M   56          16  70072   \n",
       "2       12      1193       4  978220179      M   25          12  32793   \n",
       "3       15      1193       4  978199279      M   25           7  22903   \n",
       "4       17      1193       5  978158471      M   50           1  95350   \n",
       "\n",
       "                                    title genres  \n",
       "0  One Flew Over the Cuckoo's Nest (1975)  Drama  \n",
       "1  One Flew Over the Cuckoo's Nest (1975)  Drama  \n",
       "2  One Flew Over the Cuckoo's Nest (1975)  Drama  \n",
       "3  One Flew Over the Cuckoo's Nest (1975)  Drama  \n",
       "4  One Flew Over the Cuckoo's Nest (1975)  Drama  "
      ]
     },
     "execution_count": 10,
     "metadata": {},
     "output_type": "execute_result"
    }
   ],
   "source": [
    "data.head() #head() permet de n'afficher que les premieres lignes pour la visualisation"
   ]
  },
  {
   "cell_type": "code",
   "execution_count": 11,
   "metadata": {},
   "outputs": [
    {
     "data": {
      "text/plain": [
       "1000209"
      ]
     },
     "execution_count": 11,
     "metadata": {},
     "output_type": "execute_result"
    }
   ],
   "source": [
    "len(data)"
   ]
  },
  {
   "cell_type": "markdown",
   "metadata": {},
   "source": [
    "# Explorons !"
   ]
  },
  {
   "cell_type": "markdown",
   "metadata": {},
   "source": [
    "### Question 0 : Les bases \n",
    "\n",
    "Combien de notes as-t-on dans la base de données ? Est-ce une majorité d'homme ou de femme ? Quel est l'age moyen et la variance ? \n",
    "\n",
    "Ecrire une fonction qui print la somme et la moyenne d'un `pandas.Series` de type `bool`"
   ]
  },
  {
   "cell_type": "code",
   "execution_count": 12,
   "metadata": {},
   "outputs": [],
   "source": [
    "len(data[\"rating\"])\n",
    "data.groupby(by=\"gender\", as_index=False).count()\n",
    "homme= data[\"gender\"]==\"M\"\n",
    "femme=data[\"gender\"]==\"F\""
   ]
  },
  {
   "cell_type": "code",
   "execution_count": 13,
   "metadata": {},
   "outputs": [],
   "source": [
    "def sum_and_mean(dbool):\n",
    "    \"\"\"\n",
    "    Fonction pour savoir le nombre de booléen \n",
    "    \"\"\"\n",
    "    somme=dbool.sum()\n",
    "    moyenne=dbool.mean()*100\n",
    "    print ('Somme : %d ; Pourcentage : %.2f'%(somme, moyenne))"
   ]
  },
  {
   "cell_type": "code",
   "execution_count": 14,
   "metadata": {},
   "outputs": [
    {
     "name": "stdout",
     "output_type": "stream",
     "text": [
      "Somme : 753769 ; Pourcentage : 75.36\n",
      "Somme : 246440 ; Pourcentage : 24.64\n"
     ]
    }
   ],
   "source": [
    "hommes=sum_and_mean(homme)\n",
    "femmes=sum_and_mean(femme)"
   ]
  },
  {
   "cell_type": "markdown",
   "metadata": {},
   "source": [
    "### Question 1 : Conditions sur les booléens\n",
    "\n",
    "Combien de films ont une note supérieure à 4.5 ? Existe-t-il une différence entre les hommes et les femmes?"
   ]
  },
  {
   "cell_type": "code",
   "execution_count": 15,
   "metadata": {},
   "outputs": [
    {
     "data": {
      "text/plain": [
       "2.8655074642161718"
      ]
     },
     "execution_count": 15,
     "metadata": {},
     "output_type": "execute_result"
    }
   ],
   "source": [
    "sup_4_5=len(data.loc[data[\"rating\"]>4.5])\n",
    "m_rating=len(data.loc[(data[\"rating\"]>4.5) & (data[\"gender\"]==\"M\")])\n",
    "f_rating=len(data.loc[(data[\"rating\"]>4.5) & (data[\"gender\"]==\"F\")])\n",
    "\n",
    "m_rating/f_rating            \n"
   ]
  },
  {
   "cell_type": "markdown",
   "metadata": {},
   "source": [
    "Attention il vaut mieux regarder les proportions pour avoir une réponse pertinente:"
   ]
  },
  {
   "cell_type": "code",
   "execution_count": 16,
   "metadata": {},
   "outputs": [
    {
     "data": {
      "text/plain": [
       "0.23756695341665315"
      ]
     },
     "execution_count": 16,
     "metadata": {},
     "output_type": "execute_result"
    }
   ],
   "source": [
    "m_rating/len(data.loc[data[\"gender\"]==\"M\"])\n",
    "f_rating/len(data.loc[data[\"gender\"]==\"F\"])"
   ]
  },
  {
   "cell_type": "markdown",
   "metadata": {},
   "source": [
    "On verifie que c'est bien la même chose "
   ]
  },
  {
   "cell_type": "code",
   "execution_count": 17,
   "metadata": {},
   "outputs": [
    {
     "data": {
      "text/plain": [
       "Index(['user_id', 'movie_id', 'rating', 'timestamp', 'gender', 'age',\n",
       "       'occupation', 'zip', 'title', 'genres'],\n",
       "      dtype='object')"
      ]
     },
     "execution_count": 17,
     "metadata": {},
     "output_type": "execute_result"
    }
   ],
   "source": [
    " sup_4_5/len(data)\n",
    "data.columns"
   ]
  },
  {
   "cell_type": "markdown",
   "metadata": {},
   "source": [
    "### Question 2 : Operations booléennes et groupement\n",
    "\n",
    "Combien de films ont une note médiane au dessus de 4,5 parmis les hommes de plus de 30 ans? parmis les femmes de plus de 30 ans?"
   ]
  },
  {
   "cell_type": "code",
   "execution_count": 18,
   "metadata": {},
   "outputs": [
    {
     "name": "stdout",
     "output_type": "stream",
     "text": [
      "86\n",
      "149\n"
     ]
    }
   ],
   "source": [
    "h_30_plus=data.loc[(data[\"gender\"]==\"M\") & (data[\"age\"]> 30)]\n",
    "f_30_plus=data.loc[(data[\"gender\"]==\"F\") & (data[\"age\"]> 30)]\n",
    "\n",
    "\n",
    "median_h=h_30_plus.groupby(by=\"movie_id\", as_index=False)[\"rating\"].median()\n",
    "\n",
    "median_f=f_30_plus.groupby(by=\"movie_id\", as_index=False)[\"rating\"].median()\n",
    "\n",
    "#Combien de films ont une note médiane au dessus de 4,5 parmis les hommes de plus de 30 ans\n",
    "print(len(median_h.loc[median_h[\"rating\"]>4.5]))\n",
    "\n",
    "#parmis les femmes de plus de 30 ans?\n",
    "print(len(median_f.loc[median_f[\"rating\"]>4.5]))\n",
    "\n"
   ]
  },
  {
   "cell_type": "markdown",
   "metadata": {},
   "source": [
    "### Question 3 : Faire attention à la taille des données\n",
    "\n",
    "Quels sont les films les mieux notés ?"
   ]
  },
  {
   "cell_type": "code",
   "execution_count": 19,
   "metadata": {},
   "outputs": [
    {
     "name": "stdout",
     "output_type": "stream",
     "text": [
      "                                                  title    rating\n",
      "3477                            Ulysses (Ulisse) (1954)  5.000000\n",
      "2025                                       Lured (1947)  5.000000\n",
      "1203                            Follow the Bitch (1998)  5.000000\n",
      "407                            Bittersweet Motel (2000)  5.000000\n",
      "3087                             Song of Freedom (1936)  5.000000\n",
      "2453                           One Little Indian (1973)  5.000000\n",
      "3044                               Smashing Time (1967)  5.000000\n",
      "2903          Schlafes Bruder (Brother of Sleep) (1995)  5.000000\n",
      "1297                 Gate of Heavenly Peace, The (1995)  5.000000\n",
      "249                                    Baby, The (1973)  5.000000\n",
      "1622                I Am Cuba (Soy Cuba/Ya Kuba) (1964)  4.800000\n",
      "1870                                    Lamerica (1994)  4.750000\n",
      "199                             Apple, The (Sib) (1998)  4.666667\n",
      "2883                                     Sanjuro (1962)  4.608696\n",
      "2940  Seven Samurai (The Magnificent Seven) (Shichin...  4.560510\n",
      "2970                   Shawshank Redemption, The (1994)  4.554558\n",
      "1354                              Godfather, The (1972)  4.524966\n",
      "713                               Close Shave, A (1995)  4.520548\n",
      "3504                         Usual Suspects, The (1995)  4.517106\n",
      "2901                            Schindler's List (1993)  4.510417\n",
      "3675                         Wrong Trousers, The (1993)  4.507937\n",
      "996               Dry Cleaning (Nettoyage � sec) (1997)  4.500000\n",
      "1690         Inheritors, The (Die Siebtelbauern) (1998)  4.500000\n",
      "2056                                  Mamma Roma (1962)  4.500000\n",
      "342                                   Bells, The (1926)  4.500000\n",
      "842                               Dangerous Game (1993)  4.500000\n",
      "1583                        Hour of the Pig, The (1993)  4.500000\n",
      "583                 Callej�n de los milagros, El (1995)  4.500000\n",
      "3016                               Skipped Parts (2000)  4.500000\n",
      "3218      Sunset Blvd. (a.k.a. Sunset Boulevard) (1950)  4.491489\n",
      "...                                                 ...       ...\n",
      "932                                    Diebinnen (1995)  1.000000\n",
      "439   Blood Spattered Bride, The (La Novia Ensangren...  1.000000\n",
      "445                            Bloody Child, The (1996)  1.000000\n",
      "3491                         Uninvited Guest, An (2000)  1.000000\n",
      "1945  Little Indian, Big City (Un indien dans la vil...  1.000000\n",
      "2951                            Shadows (Cienie) (1988)  1.000000\n",
      "2121                             McCullochs, The (1975)  1.000000\n",
      "1546               Hillbillys in a Haunted House (1967)  1.000000\n",
      "3296                      Terror in a Texas Town (1958)  1.000000\n",
      "3609                                  White Boys (1999)  1.000000\n",
      "1995                                  Lotto Land (1995)  1.000000\n",
      "2412                                   Nueba Yol (1995)  1.000000\n",
      "1063  Even Dwarfs Started Small (Auch Zwerge haben k...  1.000000\n",
      "1313                                 Get Over It (1996)  1.000000\n",
      "3516                               Venice/Venice (1992)  1.000000\n",
      "3028                                   Sleepover (1995)  1.000000\n",
      "2991  Silence of the Palace, The (Saimt el Qusur) (1...  1.000000\n",
      "3552                         Waltzes from Vienna (1933)  1.000000\n",
      "3646                              Wirey Spindell (1999)  1.000000\n",
      "1806                 Kestrel's Eye (Falkens �ga) (1998)  1.000000\n",
      "3125        Spring Fever USA (a.k.a. Lauderdale) (1989)  1.000000\n",
      "2019                        Loves of Carmen, The (1948)  1.000000\n",
      "3487                                  Underworld (1997)  1.000000\n",
      "2021                               Low Life, The (1994)  1.000000\n",
      "2887                          Santa with Muscles (1996)  1.000000\n",
      "1113  Fantastic Night, The (La Nuit Fantastique) (1949)  1.000000\n",
      "650                                      Cheetah (1989)  1.000000\n",
      "3400  Torso (Corpi Presentano Tracce di Violenza Car...  1.000000\n",
      "2279                             Mutters Courage (1995)  1.000000\n",
      "3637                                     Windows (1980)  1.000000\n",
      "\n",
      "[3706 rows x 2 columns]\n"
     ]
    }
   ],
   "source": [
    "#300 films les mieux notés\n",
    "best=data.groupby(by=\"title\",as_index=False)[\"rating\"].mean().sort_values(by=\"rating\",ascending=False).head(300)\n",
    "print(best)\n",
    "\n"
   ]
  },
  {
   "cell_type": "markdown",
   "metadata": {},
   "source": [
    "Est-ce que ce sont vraiment les plus populaires ? "
   ]
  },
  {
   "cell_type": "code",
   "execution_count": 117,
   "metadata": {},
   "outputs": [
    {
     "name": "stdout",
     "output_type": "stream",
     "text": [
      "       rating  rang_rating  count  rang_count\n",
      "0    4.554558          1.0   2227        24.0\n",
      "1    4.524966          2.0   2223        25.0\n",
      "2    4.517106          3.0   1783        39.0\n",
      "3    4.510417          4.0   2304        18.0\n",
      "4    4.507937          5.0    882       269.0\n",
      "5    4.477725          6.0   2514        12.0\n",
      "6    4.476190          7.0   1050       187.0\n",
      "7    4.453694          8.0   2991         2.0\n",
      "8    4.449890          9.0   1367        91.5\n",
      "9    4.425647         10.0    928       240.5\n",
      "10   4.412822         11.0   1669        51.0\n",
      "11   4.406263         12.0   2459        14.0\n",
      "12   4.401925         13.0    831       295.0\n",
      "13   4.395973         14.0   1043       192.0\n",
      "14   4.390725         15.0   1725        44.0\n",
      "15   4.388889         16.0   1116       160.5\n",
      "16   4.386994         17.0    938       235.5\n",
      "17   4.384030         18.0   1315       106.5\n",
      "18   4.357565         19.0   1692        50.0\n",
      "19   4.351823         20.0   2578        10.0\n",
      "20   4.339241         21.0   1185       134.0\n",
      "21   4.337354         22.0   2653         6.0\n",
      "22   4.335210         23.0   1599        58.0\n",
      "23   4.329861         24.0   1152       144.0\n",
      "24   4.320305         25.0   1049       188.0\n",
      "25   4.317386         26.0   3428         1.0\n",
      "26   4.315830         27.0   2590         8.0\n",
      "27   4.303710         28.0   2318        17.0\n",
      "28   4.302697         29.0   1001       206.5\n",
      "29   4.300481         30.0    832       294.0\n",
      "..        ...          ...    ...         ...\n",
      "270  3.353830        271.0    927       242.5\n",
      "271  3.351431        272.0   1013       198.0\n",
      "272  3.343696        273.0   1158       141.5\n",
      "273  3.332265        274.0    936       237.0\n",
      "274  3.321748        275.0   1007       203.0\n",
      "275  3.291160        276.0   1233       122.5\n",
      "276  3.283648        277.0    899       257.0\n",
      "277  3.279050        278.0   1179       135.0\n",
      "278  3.266247        279.0    954       227.0\n",
      "279  3.262032        280.0    935       238.0\n",
      "280  3.242160        281.0   1148       145.0\n",
      "281  3.201058        282.0    945       231.0\n",
      "282  3.195735        283.0   1313       108.5\n",
      "283  3.191892        284.0   1110       164.5\n",
      "284  3.173874        285.0   1110       164.5\n",
      "285  3.166480        286.0    895       259.0\n",
      "286  3.164303        287.0    846       286.0\n",
      "287  3.156455        288.0    914       247.5\n",
      "288  3.133276        289.0   1163       138.5\n",
      "289  3.037838        290.0    925       245.0\n",
      "290  3.036653        291.0   1255       116.0\n",
      "291  3.031528        292.0   1237       121.0\n",
      "292  3.010551        293.0    853       283.0\n",
      "293  3.002926        294.0   1367        91.5\n",
      "294  2.995781        295.0    948       228.5\n",
      "295  2.976722        296.0   1031       196.0\n",
      "296  2.954762        297.0    840       287.0\n",
      "297  2.933014        298.0   1045       191.0\n",
      "298  2.900372        299.0   1074       177.0\n",
      "299  2.158537        300.0    902       256.0\n",
      "\n",
      "[300 rows x 4 columns]\n"
     ]
    }
   ],
   "source": [
    "#300 films les plus populaires\n",
    "top_films=data.groupby(by=\"title\",as_index=False).count().sort_values(by=\"user_id\",ascending=False).loc[:,['title',\"user_id\"]].head(300)\n",
    "\n",
    "#On récupère tous les avis de chaque film faisant parti du top 300\n",
    "top_films_detail=data.merge(top_films,on=\"title\")\n",
    "\n",
    "#fims les plus populaires groupés par note moyenne\n",
    "top_films_rating=top_films_detail.groupby(by=\"title\",as_index=False)[\"rating\"].mean().sort_values(by=\"rating\",ascending=False)\n",
    "\n",
    "#On ajoute une colonne rang pour la note\n",
    "top_films_rating[\"rang_rating\"]=top_films_rating[\"rating\"].rank(ascending=False)\n",
    "\n",
    "#On crée un df qui a le count de chaque film\n",
    "top_films_count=top_films_detail.groupby(by=\"title\",as_index=False).count().sort_values(by=\"gender\",ascending=False).loc[:,['title',\"user_id_x\"]].head(300)\n",
    "\n",
    "#On renomme la colonne user_id_x en count\n",
    "top_films_count.columns=[\"title\",\"count\"]\n",
    "\n",
    "#On ajoute une colonne rang pour le count\n",
    "\n",
    "top_films_count[\"rang_count\"]=top_films_count[\"count\"].rank(ascending=False)\n",
    "\n",
    "\n",
    "#on fusionne les deux top films\n",
    "\n",
    "top_films_final= top_films_rating.merge(top_films_count, on=\"title\")\n",
    "\n",
    "print(top_films_final.iloc[:,1:])"
   ]
  },
  {
   "cell_type": "markdown",
   "metadata": {},
   "source": [
    "On va definir une popularité minimale (en fonction du nombre de notes obtenues), et garder uniquement les films qui sont au dessus d'un tel seuil. "
   ]
  },
  {
   "cell_type": "code",
   "execution_count": 121,
   "metadata": {},
   "outputs": [],
   "source": [
    "# seuil= 1000\n",
    "\n",
    "populaire_1000=top_films_final.loc[top_films_final[\"count\"]>=1000]"
   ]
  },
  {
   "cell_type": "markdown",
   "metadata": {},
   "source": [
    "Quel est  le film le plus souvent noté par les utilisateurs? "
   ]
  },
  {
   "cell_type": "code",
   "execution_count": 136,
   "metadata": {},
   "outputs": [
    {
     "data": {
      "text/plain": [
       "title          American Beauty (1999)\n",
       "rating                        4.31739\n",
       "rang_rating                        26\n",
       "count                            3428\n",
       "rang_count                          1\n",
       "Name: 25, dtype: object"
      ]
     },
     "execution_count": 136,
     "metadata": {},
     "output_type": "execute_result"
    }
   ],
   "source": [
    "populaire_1000.loc[populaire_1000[\"count\"].idxmax()]"
   ]
  }
 ],
 "metadata": {
  "kernelspec": {
   "display_name": "Python 3",
   "language": "python",
   "name": "python3"
  },
  "language_info": {
   "codemirror_mode": {
    "name": "ipython",
    "version": 3
   },
   "file_extension": ".py",
   "mimetype": "text/x-python",
   "name": "python",
   "nbconvert_exporter": "python",
   "pygments_lexer": "ipython3",
   "version": "3.7.1"
  }
 },
 "nbformat": 4,
 "nbformat_minor": 1
}
