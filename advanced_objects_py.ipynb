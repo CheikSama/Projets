{
 "cells": [
  {
   "cell_type": "markdown",
   "metadata": {},
   "source": [
    "### defaultdict\n"
   ]
  },
  {
   "cell_type": "code",
   "execution_count": 19,
   "metadata": {},
   "outputs": [],
   "source": [
    "document=\"\"\"Imagine that you’re trying to count the words in a document. An obvious approach is\n",
    "to create a dictionary in which the keys are words and the values are counts. As you check each word, you can increment its count if it’s already in the dictionary and add\n",
    "it to the dictionary if it’s not\"\"\"\n",
    "word_counts = {}\n",
    "for word in document:\n",
    "    if word in word_counts:\n",
    "        word_counts[word] += 1\n",
    "    else:\n",
    "        word_counts[word] = 1"
   ]
  },
  {
   "cell_type": "code",
   "execution_count": 20,
   "metadata": {},
   "outputs": [],
   "source": [
    "word_counts2 = {}     # You could also use the “forgiveness is better than permission” approach and just handle the exception from trying to look up a missing key\n",
    "for word in document:\n",
    "    try:\n",
    "        word_counts2[word] += 1\n",
    "    except KeyError:\n",
    "        word_counts2[word] = 1"
   ]
  },
  {
   "cell_type": "code",
   "execution_count": 21,
   "metadata": {},
   "outputs": [],
   "source": [
    "word_counts3 = {}                     #On utilise get qui gère automatiquement les clés manquantes\n",
    "for word in document:\n",
    "    previous_count = word_counts3.get(word, 0)\n",
    "    word_counts3[word] = previous_count + 1"
   ]
  },
  {
   "cell_type": "markdown",
   "metadata": {},
   "source": [
    "Le mieux c'est d'utiliser un **default dict**. Un default dict c'est comme un dico normal sauf que lorsqu'on essaie de chercher une valeur avec une clé qui n'existe pas ça va créer la clé avec une valeur  qui est prédéfinie avec la fonction defaultdict(25) par ex. Ca donne:\n"
   ]
  },
  {
   "cell_type": "code",
   "execution_count": 29,
   "metadata": {},
   "outputs": [
    {
     "data": {
      "text/plain": [
       "0"
      ]
     },
     "execution_count": 29,
     "metadata": {},
     "output_type": "execute_result"
    }
   ],
   "source": [
    "from collections import defaultdict\n",
    "word_counts4 = defaultdict(int) # int() produces 0\n",
    "for word in document:\n",
    "    word_counts[word] += 1\n",
    "\n",
    "    #bien entendu ce mot n'est pas dans le dictionnaire mais il va l'initialiser avec 0\n",
    "word_counts4[\"tamere\"]"
   ]
  },
  {
   "cell_type": "code",
   "execution_count": 50,
   "metadata": {},
   "outputs": [
    {
     "name": "stdout",
     "output_type": "stream",
     "text": [
      "defaultdict(<class 'list'>, {2: [1, 5]})\n"
     ]
    }
   ],
   "source": [
    "#They can also be useful with list or dict or even your own functions:\n",
    "\n",
    "dd_list = defaultdict(list) # list() produces an empty list\n",
    "dd_list[2].extend([1,5]) # now dd_list contains {2: [1,5]}\n",
    "\n",
    "print(dd_list)\n",
    "dd_dict = defaultdict(dict) # dict() produces an empty dict\n",
    "dd_dict[\"Joel\"][\"City\"] = \"Seattle\" # { \"Joel\" : { \"City\" : Seattle\"}}\n",
    "\n",
    "dd_pair = defaultdict(lambda: [0, 0])\n",
    "dd_pair[2][1] = 1 # now dd_pair contains {2: [0,1]}"
   ]
  },
  {
   "cell_type": "markdown",
   "metadata": {},
   "source": [
    "### Counter\n",
    "\n",
    "Un counter transforme une séquence de valeurs en un defaultdict(int) qui compte les valeurs de chaque clé.\n"
   ]
  },
  {
   "cell_type": "code",
   "execution_count": 37,
   "metadata": {},
   "outputs": [],
   "source": [
    "from collections import Counter\n",
    "c = Counter([0, 1, 2, 0]) # c is (basically) { 0 : 2, 1 : 1, 2 : 1 }"
   ]
  },
  {
   "cell_type": "code",
   "execution_count": 51,
   "metadata": {},
   "outputs": [
    {
     "name": "stdout",
     "output_type": "stream",
     "text": [
      "  52\n",
      "t 25\n",
      "i 21\n",
      "a 20\n",
      "o 20\n",
      "n 19\n",
      "e 19\n",
      "c 15\n",
      "r 14\n",
      "d 12\n"
     ]
    }
   ],
   "source": [
    "#This gives us a very simple way to solve our word_counts problem:\n",
    "word_counts5 = Counter(document)\n",
    "\n",
    "#A Counter instance has a most_common method that is frequently useful:\n",
    "# print the 10 most common words and their counts\n",
    "\n",
    "for word, count in word_counts5.most_common(10):\n",
    "    print (word, count)"
   ]
  },
  {
   "cell_type": "markdown",
   "metadata": {},
   "source": [
    "### **Sets**\n",
    "\n",
    "C'est une autre structure de données qui permet de représenter une collection d'éléments disctincts\n",
    "\n",
    "On les utilise pour deux raisons principales:\n",
    "\n",
    "-  \"in is\" est une opération très rapide sur les sets. SI on a une large collection d'items pour voir si ils sont dans tel objet, les set sont plus appropriés que les listes. \n",
    "-  Trouver les les items distincts dans une collection\n"
   ]
  },
  {
   "cell_type": "code",
   "execution_count": 47,
   "metadata": {},
   "outputs": [
    {
     "data": {
      "text/plain": [
       "False"
      ]
     },
     "execution_count": 47,
     "metadata": {},
     "output_type": "execute_result"
    }
   ],
   "source": [
    "s=set()\n",
    "s.add(1) # s is now { 1 }\n",
    "s.add(2) # s is now { 1, 2 }\n",
    "s.add(2) # s is still { 1, 2 }\n",
    "len(s) # equals 2\n",
    "2 in s # equals True\n",
    "3 in s # equals False\n",
    "\n",
    "#raison 1\n",
    "stopwords_list = [\"a\",\"an\",\"at\"]+ [\"yet\", \"you\"] #+ centaines de mots\n",
    "\"zip\" in stopwords_list # False, but have to check every element\n",
    "stopwords_set = set(stopwords_list)\n",
    "\"zip\" in stopwords_set # very fast to check\n",
    "\n",
    "#raison 2\n",
    "\n",
    "item_list = [1, 2, 3, 1, 2, 3]\n",
    "num_items = len(item_list) # 6\n",
    "item_set = set(item_list) # {1, 2, 3}\n",
    "num_distinct_items = len(item_set) # 3\n",
    "distinct_item_list = list(item_set) # [1, 2, 3]"
   ]
  },
  {
   "cell_type": "markdown",
   "metadata": {},
   "source": [
    "Python a une fonction **all** qui prend  une liste et renvoie True si tous les éléments sont **véridiques** et une fonction **any** qui renvoie True quand au moins un élément est véridique"
   ]
  },
  {
   "cell_type": "code",
   "execution_count": 49,
   "metadata": {},
   "outputs": [
    {
     "data": {
      "text/plain": [
       "True"
      ]
     },
     "execution_count": 49,
     "metadata": {},
     "output_type": "execute_result"
    }
   ],
   "source": [
    "all([True, 1, { 3 }]) # True\n",
    "all([True, 1, {}]) # False, {} is falsy because empty\n",
    "any([True, 1, {}]) # True, True is truthy \n",
    "all([]) # True, no falsy elements in the list\n",
    "any([]) # False, no truthy elements in the list"
   ]
  },
  {
   "cell_type": "markdown",
   "metadata": {},
   "source": [
    "### List comprehensions\n",
    "\n",
    "Le meilleur moyen pythonique de transformer une liste en une liste (faire des opérations éléments par éléments et garder le type list), c'est les **list comprehensions**"
   ]
  },
  {
   "cell_type": "code",
   "execution_count": null,
   "metadata": {},
   "outputs": [],
   "source": [
    "even_numbers = [x for x in range(5) if x % 2 == 0] # [0, 2, 4]\n",
    "squares = [x * x for x in range(5)] # [0, 1, 4, 9, 16]\n",
    "even_squares = [x * x for x in even_numbers] # [0, 4, 16]\n",
    "\n",
    "# You can similarly turn lists into dictionaries or sets:\n",
    "square_dict = { x : x * x for x in range(5) } # { 0:0, 1:1, 2:4, 3:9, 4:16 }\n",
    "square_set = { x * x for x in [1, -1] } # { 1 }\n",
    "\n",
    "#If you don’t need the value from the list, it’s conventional to use an underscore as the\n",
    "#variable:\n",
    "zeroes = [0 for _ in even_numbers] # has the same length as even_numbers\n",
    "\n",
    "#A list comprehension can include multiple fors:\n",
    "pairs = [(x, y)\n",
    "for x in range(10)\n",
    "for y in range(10)] # 100 pairs (0,0) (0,1) ... (9,8), (9,9)\n"
   ]
  },
  {
   "cell_type": "markdown",
   "metadata": {},
   "source": [
    "### Générateurs et itérateurs\n",
    "\n",
    "Le pb avec les listes c'est qu'elles peuvent devenir très grosses. Un range (1 million) crée une liste d'1M d'éléments. Si j'ai besoin d'en utiliser un à la fois, ça peut devenir très gourmand et inéficace. \n",
    "Un générateur est qqch sur lequel je peux itérer mais dont les valeurs sont générées seulement quand j'en ai besoin (lazily).\n",
    "\n",
    "Un des moyens de créer des générateurs c'est d'utiliser l'opérateur yield \n",
    "\n"
   ]
  },
  {
   "cell_type": "code",
   "execution_count": 59,
   "metadata": {},
   "outputs": [
    {
     "name": "stdout",
     "output_type": "stream",
     "text": [
      "0\n",
      "1\n",
      "2\n",
      "3\n",
      "4\n",
      "5\n",
      "6\n",
      "7\n",
      "8\n",
      "9\n"
     ]
    }
   ],
   "source": [
    "def lazy_range(n):\n",
    "    \"\"\"a lazy version of range\"\"\"\n",
    "    i = 0\n",
    "    while i < n:\n",
    "        yield i\n",
    "        i += 1\n",
    "        \n",
    "for i in lazy_range(10):\n",
    "    print(i)"
   ]
  },
  {
   "cell_type": "markdown",
   "metadata": {},
   "source": [
    "L'inconvénient avec la laziness c'est qu'on peut itéré sur un générateur seulement une fois. Si on a besoin d'itérer sur qqch plusieurs fois il faudra soit recréer le générateur à chaque fois ou utiliser une liste\n",
    "\n",
    "Le second moyen de créer des générateurs c'est en utilisant des for comprehension dans des parenthèses:"
   ]
  },
  {
   "cell_type": "code",
   "execution_count": null,
   "metadata": {},
   "outputs": [],
   "source": [
    "lazy_evens_below_20 = (i for i in lazy_range(20) if i % 2 == 0)"
   ]
  },
  {
   "cell_type": "markdown",
   "metadata": {},
   "source": [
    "### OOP\n",
    "\n",
    "Imaginons qu'on avait pas la classe set en built in.\n",
    "On va créer notre propre class set\n",
    "\n",
    "On devra être capable d'y ajouter des choses, les supprimer, et vérifier si ils contiennent certaines valeurs. "
   ]
  },
  {
   "cell_type": "code",
   "execution_count": 61,
   "metadata": {},
   "outputs": [],
   "source": [
    "# by convention, we give classes PascalCase names\n",
    "class Set:\n",
    "# these are the member functions\n",
    "# every one takes a first parameter \"self\" (another convention)\n",
    "# that refers to the particular Set object being used\n",
    "    def __init__(self, values=None):\n",
    "        \"\"\"This is the constructor.\n",
    "        It gets called when you create a new Set.\n",
    "        You would use it like\n",
    "        s1 = Set() # empty set\n",
    "        s2 = Set([1,2,2,3]) # initialize with values\"\"\"\n",
    "        self.dict = {} # each instance of Set has its own dict property\n",
    "    # which is what we'll use to track memberships\n",
    "        if values is not None:\n",
    "            for value in values:\n",
    "                self.add(value)\n",
    "    def __repr__(self):\n",
    "        \"\"\"this is the string representation of a Set object\n",
    "            if you type it at the Python prompt or pass it to str()\"\"\"\n",
    "        return \"Set: \" + str(self.dict.keys())\n",
    "        # we'll represent membership by being a key in self.dict with value True\n",
    "    def add(self, value):\n",
    "        self.dict[value] = True\n",
    "    # value is in the Set if it's a key in the dictionary\n",
    "    \n",
    "    def contains(self, value):\n",
    "        return value in self.dict\n",
    "    \n",
    "    def remove(self, value):\n",
    "        del self.dict[value]\n",
    "        \n",
    "        "
   ]
  },
  {
   "cell_type": "code",
   "execution_count": null,
   "metadata": {},
   "outputs": [],
   "source": []
  }
 ],
 "metadata": {
  "kernelspec": {
   "display_name": "Python 3",
   "language": "python",
   "name": "python3"
  },
  "language_info": {
   "codemirror_mode": {
    "name": "ipython",
    "version": 3
   },
   "file_extension": ".py",
   "mimetype": "text/x-python",
   "name": "python",
   "nbconvert_exporter": "python",
   "pygments_lexer": "ipython3",
   "version": "3.7.1"
  }
 },
 "nbformat": 4,
 "nbformat_minor": 2
}
