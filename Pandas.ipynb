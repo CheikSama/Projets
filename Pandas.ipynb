{
 "cells": [
  {
   "cell_type": "markdown",
   "metadata": {},
   "source": [
    " # Pandas                                  "
   ]
  },
  {
   "cell_type": "markdown",
   "metadata": {},
   "source": [
    "                                                                                                      Cheik Samassa\n",
    "                                                                                                  Marion Mennessier\n",
    "                                                                                                           M1 MEDAS"
   ]
  },
  {
   "cell_type": "markdown",
   "metadata": {},
   "source": [
    "\n",
    "\n",
    "#### Introduction\n",
    "\n",
    "Pandas est une librairie Python développée par Wes McKinney offrant des structures de données flexibles dont l'utilisation est à la fois pratique et intuitive. \n",
    "\n",
    "Le but de cette librairie est de devenir l’outil de data analyse/manipulation disponible le plus puissant, complet et flexible. \n",
    "Aucun outil avant lui n’avait pu égaler les fonctionnalités du langage R (et sa facilité d’utilisation) que Pandas a l’ambition de compléter tout en utilisant les bonne idées."
   ]
  },
  {
   "cell_type": "markdown",
   "metadata": {},
   "source": [
    "Pour utiliser Pandas il faut l'installer si on ne l'a pas déjà  on l'install à l'aide  du pip ou conda (sur jhub ou la suite anaconda on l'a déjà il suffit de l'importer)\n"
   ]
  },
  {
   "cell_type": "markdown",
   "metadata": {},
   "source": [
    "import pandas as pd  il s'agit de l'allias le plus répandu pour pandas\n",
    "                     lorsqu'on voudra utiliser une des fonctions il suffira de faire\n",
    "\n",
    "\n",
    "    pd.fonction  \n",
    "\n",
    "au lieu de \n",
    "    \n",
    "    pandas.fonction\n"
   ]
  },
  {
   "cell_type": "markdown",
   "metadata": {},
   "source": [
    "Pandas permet d’utiliser différentes catégories de données:\n",
    "\n",
    "* Des données tabulaires ayant des colonnes de types hétérogènes: des tables sql ou des feuilles excel par exemple\n",
    "\n",
    "* Des données matricielles de type homogène ou hétérogènes \n",
    "\n",
    "* Tout type de jeux de données, d’observations\n",
    "\n",
    "* Des données ordonnées et non ordonnées  de séries temporelles\n"
   ]
  },
  {
   "cell_type": "markdown",
   "metadata": {},
   "source": [
    "on va importer par exemple un fichier csv et un excel\n",
    "\n",
    "tableaucsv= pd.read_csv('fichier.csv', 'séparateur')\n",
    "\n",
    "tableauexcel= pd.read_excel('fichier.xls', 'nom de la feuille')\n",
    "\n",
    "En réalité ces fonctions prennent bien plus qu'un argument, mais spécifier ces deux là est indispensable à moins que le tableau n'ait qu'une seule colonne (un séparateur n'est pas nécessaire dans ce cas). \n"
   ]
  },
  {
   "cell_type": "markdown",
   "metadata": {},
   "source": [
    "Les deux principales structures de données Pandas sont les pandas series, et les pandas dataframes\n",
    "\n",
    "* Le DataFrame est une une structure de donnée à deux dimension ayant des colonnes labelisées de potentiellement différents types. C’est un peu comme une table SQL ou une feuille (Excel ou ou autre spreadsheets). C’est l’objet pandas le plus utilisé en général\n",
    "\n",
    "* Les Series sont des tableau d’une dimension capables de contenir tout type de données:\n",
    " integers, strings, floats etc…\n",
    "\n",
    "Concrètement un pandas series c'est un tableau d'une colonne et plusieurs lignes, un dataframes c'est un tableau de plusieurs colonnes et plusieurs lignes. \n",
    "\n",
    "Autrement dit un Dataframe contient plusieurs Pandas Series correspondant chacun à une colonne.\n",
    "\n",
    "D'ailleurs les différentes colonnes du dataframe sont stockées en mémoire en tant que collection de pandas series\n"
   ]
  },
  {
   "cell_type": "markdown",
   "metadata": {},
   "source": [
    "#### Créer un DataFrame\n",
    "\n",
    "Pour créer un Dataframe on utilise la fonction: pd.DataFrame(data=None, index=None, columns=None, dtype=None, copy=False):\n",
    "\n",
    "On va importer un dictionnaire c'est le plus simple (c'est les exemples qu'on retrouve dans la documentation\n",
    "On crée le dictionnaire Europe qui va contenir des pays et leurs capitales\n",
    "\n",
    "chaque élément du dictionnaire va contenir une liste de différents pays/capitales\n",
    "\n"
   ]
  },
  {
   "cell_type": "code",
   "execution_count": 33,
   "metadata": {},
   "outputs": [
    {
     "name": "stdout",
     "output_type": "stream",
     "text": [
      "      a  b  c  d  e\n",
      "UN    1  2  3  4  5\n",
      "DEUX  A  B  C  D  E\n",
      "\n",
      "    Capitale       Pays\n",
      "a  Bruxelles   Belgique\n",
      "b      Paris     France\n",
      "c     Madrid    Espagne\n",
      "d     Berlin  Allemagne\n"
     ]
    }
   ],
   "source": [
    "import pandas as pd\n",
    "\n",
    "print(pd.DataFrame([[1,2,3,4,5],\n",
    "              [\"A\",\"B\",\"C\",\"D\",\"E\"]], \n",
    "             index= ['UN','DEUX'], \n",
    "             columns=['a','b','c','d','e']))\n",
    "\n",
    "print()\n",
    "Europe= { 'Pays': ['Belgique', 'France', 'Espagne', 'Allemagne'], \n",
    "         'Capitale': ['Bruxelles','Paris', 'Madrid', 'Berlin']}\n",
    "\n",
    "tableau_Europe= pd.DataFrame(data= Europe, index= ['a','b','c','d']) \n",
    "                                    # On n'a pas besoin de l'argument colonne vu qu'il est déjà défini dans le dictionnaire\n",
    "                                   # si on le met ça va créer un df vide ayant juste les noms de colonnes\n",
    "print(tableau_Europe)    "
   ]
  },
  {
   "cell_type": "markdown",
   "metadata": {},
   "source": [
    "#### Créer un pandas Series\n",
    "\n",
    "On crée un pandas series de façon similaire tel que pandas.Series(data=None, index=None, dtype=None, name=None, copy=False, fastpath=False)\n",
    "\n"
   ]
  },
  {
   "cell_type": "code",
   "execution_count": 3,
   "metadata": {},
   "outputs": [
    {
     "data": {
      "text/plain": [
       "0    A\n",
       "1    B\n",
       "2    C\n",
       "3    D\n",
       "4    E\n",
       "dtype: object"
      ]
     },
     "execution_count": 3,
     "metadata": {},
     "output_type": "execute_result"
    }
   ],
   "source": [
    "liste1=[\"A\",\"B\",\"C\",\"D\",\"E\"]\n",
    "   \n",
    "pd.Series(liste1)\n"
   ]
  },
  {
   "cell_type": "markdown",
   "metadata": {},
   "source": [
    "#### Sélectionner dans un DataFrame/Series\n",
    "\n",
    "\n",
    "##### Sélectionner une colonne entière\n",
    "On peut sélectionner une colonne entière en la mettant entre crochets mais si on fait ça Pythin va extraire \n",
    "cette colonne en tant que pandas series et pas comme Dataframe on peut vérifier: "
   ]
  },
  {
   "cell_type": "code",
   "execution_count": 34,
   "metadata": {},
   "outputs": [
    {
     "name": "stdout",
     "output_type": "stream",
     "text": [
      "a     Belgique\n",
      "b       France\n",
      "c      Espagne\n",
      "d    Allemagne\n",
      "Name: Pays, dtype: object\n",
      "\n",
      "<class 'pandas.core.series.Series'>\n"
     ]
    }
   ],
   "source": [
    "print(tableau_Europe['Pays'])\n",
    "print()\n",
    "print(type(tableau_Europe['Pays']))"
   ]
  },
  {
   "cell_type": "markdown",
   "metadata": {},
   "source": [
    "Il faut la mettre entre double crochets pour que ça reste un dataframe"
   ]
  },
  {
   "cell_type": "code",
   "execution_count": 5,
   "metadata": {},
   "outputs": [
    {
     "name": "stdout",
     "output_type": "stream",
     "text": [
      "<class 'pandas.core.frame.DataFrame'>\n"
     ]
    }
   ],
   "source": [
    "tableau_Europe[['Pays']]  \n",
    "print(type(tableau_Europe[['Pays']]))"
   ]
  },
  {
   "cell_type": "markdown",
   "metadata": {},
   "source": [
    "On peut aussi sélectionner une colonne entière en mettant le nom de la colonne en tant \n",
    "que méthode du dataframe tel que: \n",
    "\n",
    "tableau_Europe.Pays "
   ]
  },
  {
   "cell_type": "markdown",
   "metadata": {},
   "source": [
    "##### Sélectionner les lignes\n",
    "\n",
    "On peut le faire à l'aide du slicing tel que:"
   ]
  },
  {
   "cell_type": "code",
   "execution_count": 6,
   "metadata": {},
   "outputs": [
    {
     "data": {
      "text/html": [
       "<div>\n",
       "<style>\n",
       "    .dataframe thead tr:only-child th {\n",
       "        text-align: right;\n",
       "    }\n",
       "\n",
       "    .dataframe thead th {\n",
       "        text-align: left;\n",
       "    }\n",
       "\n",
       "    .dataframe tbody tr th {\n",
       "        vertical-align: top;\n",
       "    }\n",
       "</style>\n",
       "<table border=\"1\" class=\"dataframe\">\n",
       "  <thead>\n",
       "    <tr style=\"text-align: right;\">\n",
       "      <th></th>\n",
       "      <th>Capitale</th>\n",
       "      <th>Pays</th>\n",
       "    </tr>\n",
       "  </thead>\n",
       "  <tbody>\n",
       "    <tr>\n",
       "      <th>c</th>\n",
       "      <td>Madrid</td>\n",
       "      <td>Espagne</td>\n",
       "    </tr>\n",
       "    <tr>\n",
       "      <th>d</th>\n",
       "      <td>Berlin</td>\n",
       "      <td>Allemagne</td>\n",
       "    </tr>\n",
       "  </tbody>\n",
       "</table>\n",
       "</div>"
      ],
      "text/plain": [
       "  Capitale       Pays\n",
       "c   Madrid    Espagne\n",
       "d   Berlin  Allemagne"
      ]
     },
     "execution_count": 6,
     "metadata": {},
     "output_type": "execute_result"
    }
   ],
   "source": [
    "tableau_Europe[2:4] # de la ligne 3 à la ligne 4 (index 2 à 3) "
   ]
  },
  {
   "cell_type": "markdown",
   "metadata": {},
   "source": [
    "##### Mais pour sélectionner proprement et précisément le mieux c'est de sélectionner grâce à la position ou le label\n",
    "\n",
    "On peut utiliser Dataframe.iloc[ligne, colonne] pour les positions ou Dataframe.loc[\"nom de ligne\",\"nom de colonne\"]\n",
    "print(tableau_Europe). \n",
    "\n",
    "On peut également utiliser Dataframe.at[ligne, colonne]"
   ]
  },
  {
   "cell_type": "code",
   "execution_count": 35,
   "metadata": {},
   "outputs": [
    {
     "name": "stdout",
     "output_type": "stream",
     "text": [
      "b       France\n",
      "d    Allemagne\n",
      "c      Espagne\n",
      "Name: Pays, dtype: object\n",
      "\n",
      "        Pays\n",
      "a   Belgique\n",
      "b     France\n",
      "c    Espagne\n",
      "d  Allemagne\n"
     ]
    }
   ],
   "source": [
    "print(tableau_Europe.loc[['b','d', 'c'],'Pays'])\n",
    "\n",
    "print()\n",
    "\n",
    "print(tableau_Europe.loc[: , ['Pays']])# on imprime toutes les lignes pour une colonne \n",
    "                                       # (faire l'inverse pour obtenir l'inverse) "
   ]
  },
  {
   "cell_type": "markdown",
   "metadata": {},
   "source": [
    "On peut sélectionner à partir de l'index tel que: dataframe.iloc[ligne, colonne], ou avec df.iat[ligne, colonne]\n",
    "\n",
    "le principe concernant le pandas series et le dataframe s'applique ici aussi"
   ]
  },
  {
   "cell_type": "code",
   "execution_count": 36,
   "metadata": {},
   "outputs": [
    {
     "name": "stdout",
     "output_type": "stream",
     "text": [
      "<class 'pandas.core.series.Series'>\n",
      "\n",
      "<class 'pandas.core.series.Series'>\n"
     ]
    }
   ],
   "source": [
    "print(type(tableau_Europe.iloc[0:-1, 0])) \n",
    "\n",
    "print()\n",
    "\n",
    "print(type(tableau_Europe.iloc[-1, 0:1]))\n",
    "\n",
    "                # Les deux sont des pandas series car la colonne/ la ligne ont étés sélectionnés séparémment "
   ]
  },
  {
   "cell_type": "code",
   "execution_count": 37,
   "metadata": {},
   "outputs": [
    {
     "name": "stdout",
     "output_type": "stream",
     "text": [
      "<class 'pandas.core.frame.DataFrame'>\n",
      "\n",
      "<class 'pandas.core.frame.DataFrame'>\n"
     ]
    }
   ],
   "source": [
    "print(type(tableau_Europe.iloc[0:-1, [0]])) \n",
    "\n",
    "print()\n",
    "\n",
    "print(type(tableau_Europe.iloc[[-1], 0:1]))\n",
    "\n",
    "            #Les deux sont des dataframes car on a corrigé le tir en mettant des crochets\n",
    "    # pour plus d'infos sur la sélection des éléments d'un dataframe: \n",
    "    #https://www.shanelynn.ie/select-pandas-dataframe-rows-and-columns-using-iloc-loc-and-ix/"
   ]
  },
  {
   "cell_type": "markdown",
   "metadata": {},
   "source": [
    "### Visualiser les données d'un Data Frame: \n",
    "\n",
    "Faire cela n'a pas vraiment d'intérêt avec les petits dataframes que nous avons présenté. \n",
    "En revanche, dès lors que le DataFrame est plus gros, visualiser les informations nous permettant de le manipuler s'avère primordial. \n",
    "\n",
    "Plusieurs fonctions nous permettent de faire cela. Parmi elles: \n",
    "\n",
    "Tout d'abord pour voir l'en tête et la queue du dataframe (il n'aura pas toujours l'air d'un tableau bien ordonné) \n",
    "on peut utiliser les fonctions: \n",
    "* Df.head(n) permet  de sélectionner les n premières lignes\n",
    "* df.tail(n) permet de sélectionner les n dernières lignes\n",
    "\n",
    "Pour avoir un aperçu\n",
    "* df.sample(frac= 0,2) permet de prendre une fraction aléatoire de 20% du tableau\n",
    "* df.sample(n= 5) permet de prendre 5 lignes aléatoires du tableau\n",
    "* df.columns   affiche l'ensemble des noms de colonnes d'un tableau( pratique lorsqu'on veut sélectionner sur un gros tableau avec les labels) \n"
   ]
  },
  {
   "cell_type": "code",
   "execution_count": 9,
   "metadata": {},
   "outputs": [
    {
     "name": "stdout",
     "output_type": "stream",
     "text": [
      "     Capitale                Pays\n",
      "0   Bruxelles            Belgique\n",
      "1       Paris              France\n",
      "2      Madrid             Espagne\n",
      "3      Berlin           Allemagne\n",
      "4     Londres     Grande Bretagne\n",
      "5      Dublin             Irlande\n",
      "6    Lisbonne            Portugal\n",
      "7     Athènes               Grèce\n",
      "8      Zurich              Suisse\n",
      "9        Rome              Italie\n",
      "10   Stocholm               Suède\n",
      "11     Ankara             Turquie\n",
      "12     Moscou              Russie\n",
      "13     Zagreb             Croatie\n",
      "14     Prague  République Tchèque\n",
      "15     Barbes       Le cheikistan\n"
     ]
    }
   ],
   "source": [
    "#On commence par créer un dataframe un peu plus gros: \n",
    "\n",
    "Europe2= { 'Pays': ['Belgique', 'France', 'Espagne', 'Allemagne', 'Grande Bretagne', 'Irlande', 'Portugal', 'Grèce'\n",
    "                  , ' Suisse','Italie', 'Suède', 'Turquie', 'Russie', 'Croatie', 'République Tchèque', 'Le cheikistan'], \n",
    "         'Capitale': ['Bruxelles','Paris', 'Madrid', 'Berlin', 'Londres','Dublin','Lisbonne', 'Athènes', 'Zurich', 'Rome'\n",
    "                     , 'Stocholm', 'Ankara', 'Moscou', 'Zagreb', 'Prague', 'Barbes']}\n",
    "\n",
    "tableau_Europe2= pd.DataFrame(data= Europe2)\n",
    "print(tableau_Europe2)"
   ]
  },
  {
   "cell_type": "code",
   "execution_count": 28,
   "metadata": {},
   "outputs": [
    {
     "name": "stdout",
     "output_type": "stream",
     "text": [
      "   Capitale                Pays\n",
      "11   Ankara             Turquie\n",
      "12   Moscou              Russie\n",
      "13   Zagreb             Croatie\n",
      "14   Prague  République Tchèque\n",
      "15   Barbes       Le cheikistan\n",
      "\n",
      "    Capitale      Pays\n",
      "0  Bruxelles  Belgique\n",
      "8     Zurich    Suisse\n",
      "6   Lisbonne  Portugal\n",
      "7    Athènes     Grèce\n",
      "\n",
      "Index(['Capitale', 'Pays'], dtype='object')\n"
     ]
    }
   ],
   "source": [
    "print(tableau_Europe2.tail(5))\n",
    "print()\n",
    "print(tableau_Europe2.sample(frac= 0.23))\n",
    "print()\n",
    "print(tableau_Europe2.columns)\n"
   ]
  },
  {
   "cell_type": "markdown",
   "metadata": {},
   "source": [
    "#### Graphiques\n",
    "Pandas dispose de quelques fonctions permettant de réaliser des graphiques, par exemple: \n",
    "* La fonction df.plot.hist() qui prend en paramètre le dataframe et renvoie un histogramme pour chaque colonne. \n",
    "\n",
    "Cette fonction utilise en réalité l'API de matplotlib pour réaliser ces graphiques. "
   ]
  },
  {
   "cell_type": "code",
   "execution_count": 18,
   "metadata": {},
   "outputs": [
    {
     "name": "stdout",
     "output_type": "stream",
     "text": [
      "     Capital  Country  Population\n",
      "0   Brussels  Belgium    11190846\n",
      "1  New Delhi    India  1303171035\n",
      "2   Brasilia   Brazil   207847528\n"
     ]
    },
    {
     "data": {
      "image/png": "[encoded data removed]",
      "text/plain": [
       "<Figure size 432x288 with 1 Axes>"
      ]
     },
     "metadata": {},
     "output_type": "display_data"
    }
   ],
   "source": [
    "import matplotlib.pyplot as plt\n",
    "\n",
    "donnees_h={'Country': ['Belgium',  'India',  'Brazil'],\n",
    "\n",
    "'Capital': ['Brussels',  'New Delhi',  'Brasilia'],\n",
    "\n",
    "'Population': [11190846, 1303171035, 207847528]}\n",
    "\n",
    "\n",
    "dfh= pd.DataFrame(donnees_h)\n",
    "print(dfh)\n",
    "\n",
    "dfh.plot.bar(x= 'Country', y='Population')\n",
    "\n",
    "plt.show()\n",
    "\n",
    "#Apparement cette platforme ne permet pas d'afficher ce graphique sans importer matplotlib auapravant"
   ]
  },
  {
   "attachments": {
    "Capture%20d%E2%80%99e%CC%81cran%202018-12-11%20a%CC%80%2010.47.31.png": {
     "image/png": "[encoded data removed]"
    }
   },
   "cell_type": "markdown",
   "metadata": {},
   "source": [
    "![Capture%20d%E2%80%99e%CC%81cran%202018-12-11%20a%CC%80%2010.47.31.png](attachment:Capture%20d%E2%80%99e%CC%81cran%202018-12-11%20a%CC%80%2010.47.31.png)"
   ]
  },
  {
   "cell_type": "markdown",
   "metadata": {},
   "source": [
    "#### Fonctions mathématiques\n",
    "\n",
    "Pandas permet également de réaliser des  opérations mathématiques. Médiane, moyenne, somme, écart type, variance etc... On peut par exemple calculer la médiane et l'écart type de la population du dataframe dfh\n"
   ]
  },
  {
   "cell_type": "code",
   "execution_count": 38,
   "metadata": {},
   "outputs": [
    {
     "name": "stdout",
     "output_type": "stream",
     "text": [
      "207847528.0\n",
      "\n",
      "696134594.7840002\n"
     ]
    }
   ],
   "source": [
    "mediane= dfh['Population'].median()\n",
    "\n",
    "print(mediane)\n",
    "\n",
    "print()\n",
    "ecart_type= dfh['Population'].std()\n",
    "\n",
    "print(ecart_type)"
   ]
  },
  {
   "cell_type": "markdown",
   "metadata": {},
   "source": [
    "### Manipuler, réorganiser le Dataframe\n",
    "\n",
    "On peut réarranger son dataframe très facilement et rapidement à l'aide de plusieurs méthodes et fonctions\n",
    "\n",
    "#### Editer/nettoyer le contenu du dataframe\n",
    "\n",
    "* On peut déjà commencer par ordonner par ordre croissant les colonnes qui peuvent l'être afin de faciliter la lecture du dataframe en vue de prochaines manipulations: \n",
    "\n",
    "_df.sort_values_(by='colonne',ascending=True), l'argument ascending est True par défaut, nul besoin de le mentionner si on veut ordonner les données par ordre croissant, on le met en revanche False si on veut que l'ordre soit décroissant. \n",
    "\n",
    "* La plupart du temps il est nécessaire d'avoir un tableau propre, ne comportant pas de cases vides/nulles. On peut soit décider de supprimer les lignes comportant des cases vides  _df.dropna()_\n",
    "ou les remplir avec quelque chose  _df.fillna(value)_.\n",
    "\n",
    "ex: ordonner les pays par population et ordre croissant (seule variable ordinale du dataframe)"
   ]
  },
  {
   "cell_type": "code",
   "execution_count": 74,
   "metadata": {},
   "outputs": [
    {
     "data": {
      "text/html": [
       "<div>\n",
       "<style>\n",
       "    .dataframe thead tr:only-child th {\n",
       "        text-align: right;\n",
       "    }\n",
       "\n",
       "    .dataframe thead th {\n",
       "        text-align: left;\n",
       "    }\n",
       "\n",
       "    .dataframe tbody tr th {\n",
       "        vertical-align: top;\n",
       "    }\n",
       "</style>\n",
       "<table border=\"1\" class=\"dataframe\">\n",
       "  <thead>\n",
       "    <tr style=\"text-align: right;\">\n",
       "      <th></th>\n",
       "      <th>Capital</th>\n",
       "      <th>Country</th>\n",
       "      <th>Population</th>\n",
       "    </tr>\n",
       "  </thead>\n",
       "  <tbody>\n",
       "    <tr>\n",
       "      <th>0</th>\n",
       "      <td>Brussels</td>\n",
       "      <td>Belgium</td>\n",
       "      <td>11190846</td>\n",
       "    </tr>\n",
       "    <tr>\n",
       "      <th>2</th>\n",
       "      <td>Brasilia</td>\n",
       "      <td>Brazil</td>\n",
       "      <td>207847528</td>\n",
       "    </tr>\n",
       "    <tr>\n",
       "      <th>1</th>\n",
       "      <td>New Delhi</td>\n",
       "      <td>India</td>\n",
       "      <td>1303171035</td>\n",
       "    </tr>\n",
       "  </tbody>\n",
       "</table>\n",
       "</div>"
      ],
      "text/plain": [
       "     Capital  Country  Population\n",
       "0   Brussels  Belgium    11190846\n",
       "2   Brasilia   Brazil   207847528\n",
       "1  New Delhi    India  1303171035"
      ]
     },
     "execution_count": 74,
     "metadata": {},
     "output_type": "execute_result"
    }
   ],
   "source": [
    "dfh.sort_values(by='Population')"
   ]
  },
  {
   "cell_type": "markdown",
   "metadata": {},
   "source": [
    "#### Jouer avec différents tableaux\n",
    "\n",
    "Coller des tables les unes avec les autres, faire des jointures, des intersections, des unions se fait en une ligne de façon très simple avec Pandas\n",
    "\n",
    "Cela prend tout son sens dès lors qu'on a chargé les données par morceaux \n",
    "\n",
    "On peut concaténer des lignes et des colonnes de différents dataframes avec pd.concat([df1,df2]) et pd.concat([df1,df2], axis=1)\n",
    "\n",
    "Concaténons les dataframes que nous avons créé avant\n",
    "\n",
    "Bien évidemment vu que les tableaux n'ont pas la même longueur il y aura plusieurs lignes vides"
   ]
  },
  {
   "cell_type": "code",
   "execution_count": 29,
   "metadata": {},
   "outputs": [
    {
     "name": "stdout",
     "output_type": "stream",
     "text": [
      "     Capitale                Pays\n",
      "0   Bruxelles            Belgique\n",
      "1       Paris              France\n",
      "2      Madrid             Espagne\n",
      "3      Berlin           Allemagne\n",
      "4     Londres     Grande Bretagne\n",
      "5      Dublin             Irlande\n",
      "6    Lisbonne            Portugal\n",
      "7     Athènes               Grèce\n",
      "8      Zurich              Suisse\n",
      "9        Rome              Italie\n",
      "10   Stocholm               Suède\n",
      "11     Ankara             Turquie\n",
      "12     Moscou              Russie\n",
      "13     Zagreb             Croatie\n",
      "14     Prague  République Tchèque\n",
      "15     Barbes       Le cheikistan\n",
      "\n",
      "     Capital  Country  Population\n",
      "0   Brussels  Belgium    11190846\n",
      "1  New Delhi    India  1303171035\n",
      "2   Brasilia   Brazil   207847528\n"
     ]
    }
   ],
   "source": [
    "#On les reaffiche\n",
    "\n",
    "print(tableau_Europe2)\n",
    "print()\n",
    "print(dfh)\n"
   ]
  },
  {
   "cell_type": "code",
   "execution_count": 95,
   "metadata": {},
   "outputs": [
    {
     "data": {
      "text/html": [
       "<div>\n",
       "<style>\n",
       "    .dataframe thead tr:only-child th {\n",
       "        text-align: right;\n",
       "    }\n",
       "\n",
       "    .dataframe thead th {\n",
       "        text-align: left;\n",
       "    }\n",
       "\n",
       "    .dataframe tbody tr th {\n",
       "        vertical-align: top;\n",
       "    }\n",
       "</style>\n",
       "<table border=\"1\" class=\"dataframe\">\n",
       "  <thead>\n",
       "    <tr style=\"text-align: right;\">\n",
       "      <th></th>\n",
       "      <th>Capital</th>\n",
       "      <th>Capitale</th>\n",
       "      <th>Country</th>\n",
       "      <th>Pays</th>\n",
       "      <th>Population</th>\n",
       "    </tr>\n",
       "  </thead>\n",
       "  <tbody>\n",
       "    <tr>\n",
       "      <th>0</th>\n",
       "      <td>NaN</td>\n",
       "      <td>Bruxelles</td>\n",
       "      <td>NaN</td>\n",
       "      <td>Belgique</td>\n",
       "      <td>NaN</td>\n",
       "    </tr>\n",
       "    <tr>\n",
       "      <th>1</th>\n",
       "      <td>NaN</td>\n",
       "      <td>Paris</td>\n",
       "      <td>NaN</td>\n",
       "      <td>France</td>\n",
       "      <td>NaN</td>\n",
       "    </tr>\n",
       "    <tr>\n",
       "      <th>2</th>\n",
       "      <td>NaN</td>\n",
       "      <td>Madrid</td>\n",
       "      <td>NaN</td>\n",
       "      <td>Espagne</td>\n",
       "      <td>NaN</td>\n",
       "    </tr>\n",
       "    <tr>\n",
       "      <th>3</th>\n",
       "      <td>NaN</td>\n",
       "      <td>Berlin</td>\n",
       "      <td>NaN</td>\n",
       "      <td>Allemagne</td>\n",
       "      <td>NaN</td>\n",
       "    </tr>\n",
       "    <tr>\n",
       "      <th>4</th>\n",
       "      <td>NaN</td>\n",
       "      <td>Londres</td>\n",
       "      <td>NaN</td>\n",
       "      <td>Grande Bretagne</td>\n",
       "      <td>NaN</td>\n",
       "    </tr>\n",
       "    <tr>\n",
       "      <th>5</th>\n",
       "      <td>NaN</td>\n",
       "      <td>Dublin</td>\n",
       "      <td>NaN</td>\n",
       "      <td>Irlande</td>\n",
       "      <td>NaN</td>\n",
       "    </tr>\n",
       "    <tr>\n",
       "      <th>6</th>\n",
       "      <td>NaN</td>\n",
       "      <td>Lisbonne</td>\n",
       "      <td>NaN</td>\n",
       "      <td>Portugal</td>\n",
       "      <td>NaN</td>\n",
       "    </tr>\n",
       "    <tr>\n",
       "      <th>7</th>\n",
       "      <td>NaN</td>\n",
       "      <td>Athènes</td>\n",
       "      <td>NaN</td>\n",
       "      <td>Grèce</td>\n",
       "      <td>NaN</td>\n",
       "    </tr>\n",
       "    <tr>\n",
       "      <th>8</th>\n",
       "      <td>NaN</td>\n",
       "      <td>Zurich</td>\n",
       "      <td>NaN</td>\n",
       "      <td>Suisse</td>\n",
       "      <td>NaN</td>\n",
       "    </tr>\n",
       "    <tr>\n",
       "      <th>9</th>\n",
       "      <td>NaN</td>\n",
       "      <td>Rome</td>\n",
       "      <td>NaN</td>\n",
       "      <td>Italie</td>\n",
       "      <td>NaN</td>\n",
       "    </tr>\n",
       "    <tr>\n",
       "      <th>10</th>\n",
       "      <td>NaN</td>\n",
       "      <td>Stocholm</td>\n",
       "      <td>NaN</td>\n",
       "      <td>Suède</td>\n",
       "      <td>NaN</td>\n",
       "    </tr>\n",
       "    <tr>\n",
       "      <th>11</th>\n",
       "      <td>NaN</td>\n",
       "      <td>Ankara</td>\n",
       "      <td>NaN</td>\n",
       "      <td>Turquie</td>\n",
       "      <td>NaN</td>\n",
       "    </tr>\n",
       "    <tr>\n",
       "      <th>12</th>\n",
       "      <td>NaN</td>\n",
       "      <td>Moscou</td>\n",
       "      <td>NaN</td>\n",
       "      <td>Russie</td>\n",
       "      <td>NaN</td>\n",
       "    </tr>\n",
       "    <tr>\n",
       "      <th>13</th>\n",
       "      <td>NaN</td>\n",
       "      <td>Zagreb</td>\n",
       "      <td>NaN</td>\n",
       "      <td>Croatie</td>\n",
       "      <td>NaN</td>\n",
       "    </tr>\n",
       "    <tr>\n",
       "      <th>14</th>\n",
       "      <td>NaN</td>\n",
       "      <td>Prague</td>\n",
       "      <td>NaN</td>\n",
       "      <td>République Tchèque</td>\n",
       "      <td>NaN</td>\n",
       "    </tr>\n",
       "    <tr>\n",
       "      <th>15</th>\n",
       "      <td>NaN</td>\n",
       "      <td>Barbes</td>\n",
       "      <td>NaN</td>\n",
       "      <td>Le cheikistan</td>\n",
       "      <td>NaN</td>\n",
       "    </tr>\n",
       "    <tr>\n",
       "      <th>0</th>\n",
       "      <td>Brussels</td>\n",
       "      <td>NaN</td>\n",
       "      <td>Belgium</td>\n",
       "      <td>NaN</td>\n",
       "      <td>1.119085e+07</td>\n",
       "    </tr>\n",
       "    <tr>\n",
       "      <th>1</th>\n",
       "      <td>New Delhi</td>\n",
       "      <td>NaN</td>\n",
       "      <td>India</td>\n",
       "      <td>NaN</td>\n",
       "      <td>1.303171e+09</td>\n",
       "    </tr>\n",
       "    <tr>\n",
       "      <th>2</th>\n",
       "      <td>Brasilia</td>\n",
       "      <td>NaN</td>\n",
       "      <td>Brazil</td>\n",
       "      <td>NaN</td>\n",
       "      <td>2.078475e+08</td>\n",
       "    </tr>\n",
       "  </tbody>\n",
       "</table>\n",
       "</div>"
      ],
      "text/plain": [
       "      Capital   Capitale  Country                Pays    Population\n",
       "0         NaN  Bruxelles      NaN            Belgique           NaN\n",
       "1         NaN      Paris      NaN              France           NaN\n",
       "2         NaN     Madrid      NaN             Espagne           NaN\n",
       "3         NaN     Berlin      NaN           Allemagne           NaN\n",
       "4         NaN    Londres      NaN     Grande Bretagne           NaN\n",
       "5         NaN     Dublin      NaN             Irlande           NaN\n",
       "6         NaN   Lisbonne      NaN            Portugal           NaN\n",
       "7         NaN    Athènes      NaN               Grèce           NaN\n",
       "8         NaN     Zurich      NaN              Suisse           NaN\n",
       "9         NaN       Rome      NaN              Italie           NaN\n",
       "10        NaN   Stocholm      NaN               Suède           NaN\n",
       "11        NaN     Ankara      NaN             Turquie           NaN\n",
       "12        NaN     Moscou      NaN              Russie           NaN\n",
       "13        NaN     Zagreb      NaN             Croatie           NaN\n",
       "14        NaN     Prague      NaN  République Tchèque           NaN\n",
       "15        NaN     Barbes      NaN       Le cheikistan           NaN\n",
       "0    Brussels        NaN  Belgium                 NaN  1.119085e+07\n",
       "1   New Delhi        NaN    India                 NaN  1.303171e+09\n",
       "2    Brasilia        NaN   Brazil                 NaN  2.078475e+08"
      ]
     },
     "execution_count": 95,
     "metadata": {},
     "output_type": "execute_result"
    }
   ],
   "source": [
    "pd.concat([tableau_Europe2,dfh])# On concatène les lignes \n",
    "\n",
    "pd.concat([tableau_Europe2,dfh], axis=0)# on concatène les colonnes (axis= 1 les lignes s'affichent en haut, \n",
    "                                        # axis =0 elles s'affichent en bas)\n"
   ]
  },
  {
   "attachments": {
    "Capture%20d%E2%80%99e%CC%81cran%202018-12-10%20a%CC%80%2023.23.36.png": {
     "image/png": "[encoded data removed]"
    }
   },
   "cell_type": "markdown",
   "metadata": {},
   "source": [
    "Pour faire des opérations de jointure, d'intersection etc. Cet extrait d'un cheatsheet pandas semble très bien synthétiser ces opérations et leur utilité. \n",
    "\n",
    "\n",
    "![Capture%20d%E2%80%99e%CC%81cran%202018-12-10%20a%CC%80%2023.23.36.png](attachment:Capture%20d%E2%80%99e%CC%81cran%202018-12-10%20a%CC%80%2023.23.36.png)"
   ]
  },
  {
   "cell_type": "code",
   "execution_count": 31,
   "metadata": {},
   "outputs": [
    {
     "name": "stdout",
     "output_type": "stream",
     "text": [
      "    Capitale       Pays\n",
      "a  Bruxelles   Belgique\n",
      "b      Paris     France\n",
      "c     Madrid    Espagne\n",
      "d     Berlin  Allemagne\n",
      "\n",
      "     Capitale                Pays\n",
      "0   Bruxelles            Belgique\n",
      "1       Paris              France\n",
      "2      Madrid             Espagne\n",
      "3      Berlin           Allemagne\n",
      "4     Londres     Grande Bretagne\n",
      "5      Dublin             Irlande\n",
      "6    Lisbonne            Portugal\n",
      "7     Athènes               Grèce\n",
      "8      Zurich              Suisse\n",
      "9        Rome              Italie\n",
      "10   Stocholm               Suède\n",
      "11     Ankara             Turquie\n",
      "12     Moscou              Russie\n",
      "13     Zagreb             Croatie\n",
      "14     Prague  République Tchèque\n",
      "15     Barbes       Le cheikistan\n"
     ]
    }
   ],
   "source": [
    "print(tableau_Europe)\n",
    "\n",
    "print()\n",
    "\n",
    "print (tableau_Europe2)"
   ]
  },
  {
   "cell_type": "code",
   "execution_count": 32,
   "metadata": {
    "scrolled": true
   },
   "outputs": [
    {
     "data": {
      "text/html": [
       "<div>\n",
       "<style>\n",
       "    .dataframe thead tr:only-child th {\n",
       "        text-align: right;\n",
       "    }\n",
       "\n",
       "    .dataframe thead th {\n",
       "        text-align: left;\n",
       "    }\n",
       "\n",
       "    .dataframe tbody tr th {\n",
       "        vertical-align: top;\n",
       "    }\n",
       "</style>\n",
       "<table border=\"1\" class=\"dataframe\">\n",
       "  <thead>\n",
       "    <tr style=\"text-align: right;\">\n",
       "      <th></th>\n",
       "      <th>Capitale</th>\n",
       "      <th>Pays</th>\n",
       "    </tr>\n",
       "  </thead>\n",
       "  <tbody>\n",
       "    <tr>\n",
       "      <th>0</th>\n",
       "      <td>Bruxelles</td>\n",
       "      <td>Belgique</td>\n",
       "    </tr>\n",
       "    <tr>\n",
       "      <th>1</th>\n",
       "      <td>Paris</td>\n",
       "      <td>France</td>\n",
       "    </tr>\n",
       "    <tr>\n",
       "      <th>2</th>\n",
       "      <td>Madrid</td>\n",
       "      <td>Espagne</td>\n",
       "    </tr>\n",
       "    <tr>\n",
       "      <th>3</th>\n",
       "      <td>Berlin</td>\n",
       "      <td>Allemagne</td>\n",
       "    </tr>\n",
       "  </tbody>\n",
       "</table>\n",
       "</div>"
      ],
      "text/plain": [
       "    Capitale       Pays\n",
       "0  Bruxelles   Belgique\n",
       "1      Paris     France\n",
       "2     Madrid    Espagne\n",
       "3     Berlin  Allemagne"
      ]
     },
     "execution_count": 32,
     "metadata": {},
     "output_type": "execute_result"
    }
   ],
   "source": [
    "pd.merge(tableau_Europe, tableau_Europe2, how= 'inner', on= 'Capitale') # On va sortir l'ensemble des lignes communes aux deux tableaux\n",
    "                                                                    #En pratique il vaut mieux \n",
    "                                 \n",
    "                                                                    #ne pas prendre des caractères pour une jointure en clé étrangère\n",
    "#C'est équivalent ici à cette intersection: \n",
    "\n",
    "pd.merge(tableau_Europe, tableau_Europe2)     \n"
   ]
  },
  {
   "cell_type": "markdown",
   "metadata": {},
   "source": [
    "#### Conclusion\n",
    "\n",
    "Pandas est la librairie idéale pour manipuler des données structurées. Cette librairie ayant été écrite à partir de Numpy, on peut facilement utiliser les fonctions de numpy avec Pandas.\n",
    "\n",
    "Ce cheatsheet (officiel) de Pandas est très utile pour une prise en main rapide et pratique de la librairie: https://pandas.pydata.org/Pandas_Cheat_Sheet.pdf"
   ]
  },
  {
   "cell_type": "code",
   "execution_count": null,
   "metadata": {},
   "outputs": [],
   "source": []
  }
 ],
 "metadata": {
  "kernelspec": {
   "display_name": "Python 3",
   "language": "python",
   "name": "python3"
  },
  "language_info": {
   "codemirror_mode": {
    "name": "ipython",
    "version": 3
   },
   "file_extension": ".py",
   "mimetype": "text/x-python",
   "name": "python",
   "nbconvert_exporter": "python",
   "pygments_lexer": "ipython3",
   "version": "3.5.2"
  }
 },
 "nbformat": 4,
 "nbformat_minor": 2
}
