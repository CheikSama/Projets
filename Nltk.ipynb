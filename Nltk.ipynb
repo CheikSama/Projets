{
 "cells": [
  {
   "cell_type": "code",
   "execution_count": 13,
   "metadata": {},
   "outputs": [
    {
     "name": "stdout",
     "output_type": "stream",
     "text": [
      "showing info https://raw.githubusercontent.com/nltk/nltk_data/gh-pages/index.xml\n"
     ]
    }
   ],
   "source": [
    "import nltk\n",
    "nltk.download()\n",
    "import numpy\n",
    "import matplotlib\n",
    "%matplotlib inline"
   ]
  },
  {
   "cell_type": "code",
   "execution_count": 6,
   "metadata": {},
   "outputs": [
    {
     "name": "stdout",
     "output_type": "stream",
     "text": [
      "*** Introductory Examples for the NLTK Book ***\n",
      "Loading text1, ..., text9 and sent1, ..., sent9\n",
      "Type the name of the text or sentence to view it.\n",
      "Type: 'texts()' or 'sents()' to list the materials.\n",
      "text1: Moby Dick by Herman Melville 1851\n",
      "text2: Sense and Sensibility by Jane Austen 1811\n",
      "text3: The Book of Genesis\n",
      "text4: Inaugural Address Corpus\n",
      "text5: Chat Corpus\n",
      "text6: Monty Python and the Holy Grail\n",
      "text7: Wall Street Journal\n",
      "text8: Personals Corpus\n",
      "text9: The Man Who Was Thursday by G . K . Chesterton 1908\n"
     ]
    }
   ],
   "source": [
    "from nltk.book import * # This says \"from NLTK's book module, load all items.\""
   ]
  },
  {
   "cell_type": "markdown",
   "metadata": {},
   "source": [
    "**Searching Text**\n",
    "\n",
    "\n",
    "A concordance view shows us every occurrence of a given word, together with some context"
   ]
  },
  {
   "cell_type": "code",
   "execution_count": 9,
   "metadata": {},
   "outputs": [
    {
     "name": "stdout",
     "output_type": "stream",
     "text": [
      "Displaying 11 of 11 matches:\n",
      "ong the former , one was of a most monstrous size . ... This came towards us , \n",
      "ON OF THE PSALMS . \" Touching that monstrous bulk of the whale or ork we have r\n",
      "ll over with a heathenish array of monstrous clubs and spears . Some were thick\n",
      "d as you gazed , and wondered what monstrous cannibal and savage could ever hav\n",
      "that has survived the flood ; most monstrous and most mountainous ! That Himmal\n",
      "they might scout at Moby Dick as a monstrous fable , or still worse and more de\n",
      "th of Radney .'\" CHAPTER 55 Of the Monstrous Pictures of Whales . I shall ere l\n",
      "ing Scenes . In connexion with the monstrous pictures of whales , I am strongly\n",
      "ere to enter upon those still more monstrous stories of them which are to be fo\n",
      "ght have been rummaged out of this monstrous cabinet there is no telling . But \n",
      "of Whale - Bones ; for Whales of a monstrous size are oftentimes cast up dead u\n",
      "Displaying 25 of 38 matches:\n",
      "ay when they were created . And Adam lived an hundred and thirty years , and be\n",
      "ughters : And all the days that Adam lived were nine hundred and thirty yea and\n",
      "nd thirty yea and he died . And Seth lived an hundred and five years , and bega\n",
      "ve years , and begat Enos : And Seth lived after he begat Enos eight hundred an\n",
      "welve years : and he died . And Enos lived ninety years , and begat Cainan : An\n",
      " years , and begat Cainan : And Enos lived after he begat Cainan eight hundred \n",
      "ive years : and he died . And Cainan lived seventy years and begat Mahalaleel :\n",
      "rs and begat Mahalaleel : And Cainan lived after he begat Mahalaleel eight hund\n",
      "years : and he died . And Mahalaleel lived sixty and five years , and begat Jar\n",
      "s , and begat Jared : And Mahalaleel lived after he begat Jared eight hundred a\n",
      "and five yea and he died . And Jared lived an hundred sixty and two years , and\n",
      "o years , and he begat Eno And Jared lived after he begat Enoch eight hundred y\n",
      " and two yea and he died . And Enoch lived sixty and five years , and begat Met\n",
      " ; for God took him . And Methuselah lived an hundred eighty and seven years , \n",
      " , and begat Lamech . And Methuselah lived after he begat Lamech seven hundred \n",
      "nd nine yea and he died . And Lamech lived an hundred eighty and two years , an\n",
      "ch the LORD hath cursed . And Lamech lived after he begat Noah five hundred nin\n",
      "naan shall be his servant . And Noah lived after the flood three hundred and fi\n",
      "xad two years after the flo And Shem lived after he begat Arphaxad five hundred\n",
      "at sons and daughters . And Arphaxad lived five and thirty years , and begat Sa\n",
      "ars , and begat Salah : And Arphaxad lived after he begat Salah four hundred an\n",
      "begat sons and daughters . And Salah lived thirty years , and begat Eber : And \n",
      "y years , and begat Eber : And Salah lived after he begat Eber four hundred and\n",
      " begat sons and daughters . And Eber lived four and thirty years , and begat Pe\n",
      "y years , and begat Peleg : And Eber lived after he begat Peleg four hundred an\n"
     ]
    }
   ],
   "source": [
    "text1.concordance(\"monstrous\") #Here we look up the word monstrous in Moby Dick\n",
    "#text3.concordance(\"lived\")\n",
    "#text2.concordance(\"affection\")"
   ]
  },
  {
   "cell_type": "code",
   "execution_count": 10,
   "metadata": {},
   "outputs": [
    {
     "name": "stdout",
     "output_type": "stream",
     "text": [
      "true contemptible christian abundant few part mean careful puzzled\n",
      "mystifying passing curious loving wise doleful gamesome singular\n",
      "delightfully perilous fearless\n"
     ]
    }
   ],
   "source": [
    "text1.similar(\"monstrous\") # Les autres mots qui apparaissent dans le contexte de monstrous"
   ]
  },
  {
   "cell_type": "markdown",
   "metadata": {},
   "source": [
    "text2.common_contexts([\"monstrous\",\"very\"]) #allows us to examine just the contexts that are shared by two or more words"
   ]
  },
  {
   "cell_type": "code",
   "execution_count": 14,
   "metadata": {},
   "outputs": [
    {
     "data": {
      "image/png": "[encoded data removed]",
      "text/plain": [
       "<Figure size 432x288 with 1 Axes>"
      ]
     },
     "metadata": {
      "needs_background": "light"
     },
     "output_type": "display_data"
    }
   ],
   "source": [
    "text4.dispersion_plot([\"citizens\", \"democracy\", \"freedom\", \"duties\", \"America\"])"
   ]
  },
  {
   "cell_type": "markdown",
   "metadata": {},
   "source": [
    "Permet de retrouver la place d'un mot dans un texte: chaque barre= mot et ligne= texte: \"citizens\" est uniformément réparti dans le texte 4 tandis que \"America\" est plutôt à la fin et \"duties\" plutot au début par exemple\n",
    "\n",
    "**Counting Vocabulary** "
   ]
  },
  {
   "cell_type": "code",
   "execution_count": 15,
   "metadata": {},
   "outputs": [
    {
     "data": {
      "text/plain": [
       "44764"
      ]
     },
     "execution_count": 15,
     "metadata": {},
     "output_type": "execute_result"
    }
   ],
   "source": [
    "len(text3) # length of a text from start to finish, in terms of the words and punctuation symbols "
   ]
  },
  {
   "cell_type": "markdown",
   "metadata": {},
   "source": [
    "44764 tokens: terme technique qui désigne une séquence de caractères comme hairy his ou :) "
   ]
  },
  {
   "cell_type": "code",
   "execution_count": null,
   "metadata": {},
   "outputs": [],
   "source": [
    "set(text3)# The vocabulary of a text is just the set of tokens that it uses, since in a set, all duplicates are collapsed together\n",
    "sorted(set(text3))#  we obtain a sorted list of vocabulary items, beginning with various punctuation symbols and continuing with words starting with A\n",
    "len(set(text3)) # Although it has 44,764 tokens, this book has only 2,789 distinct words, or \"word types.\"\n",
    "\n",
    "len(set(text3)) / len(text3) # a measure of the lexical richness of the text"
   ]
  },
  {
   "cell_type": "code",
   "execution_count": 16,
   "metadata": {},
   "outputs": [
    {
     "data": {
      "text/plain": [
       "1.5640968673628082"
      ]
     },
     "execution_count": 16,
     "metadata": {},
     "output_type": "execute_result"
    }
   ],
   "source": [
    "text5.count(\"lol\")  #count how often a word occurs in a text\n",
    "100 * text5.count('lol') / len(text5)# what percentage of the text is taken up by a specific word"
   ]
  },
  {
   "cell_type": "markdown",
   "metadata": {},
   "source": [
    "**Frequency distributions**"
   ]
  },
  {
   "cell_type": "code",
   "execution_count": 20,
   "metadata": {},
   "outputs": [
    {
     "name": "stdout",
     "output_type": "stream",
     "text": [
      "<FreqDist with 19317 samples and 260819 outcomes>\n"
     ]
    },
    {
     "data": {
      "text/plain": [
       "[(',', 18713), ('the', 13721), ('.', 6862), ('of', 6536), ('and', 6024)]"
      ]
     },
     "execution_count": 20,
     "metadata": {},
     "output_type": "execute_result"
    }
   ],
   "source": [
    "fdist1 = FreqDist(text1) \n",
    "print(fdist1) \n",
    "fdist1.most_common(5)"
   ]
  },
  {
   "cell_type": "code",
   "execution_count": 28,
   "metadata": {},
   "outputs": [
    {
     "data": {
      "text/plain": [
       "17"
      ]
     },
     "execution_count": 28,
     "metadata": {},
     "output_type": "execute_result"
    }
   ],
   "source": [
    "V= set(text1)\n",
    "longwords= [w for w in V if len(w)>15]\n",
    "sorted(longwords)\n"
   ]
  },
  {
   "cell_type": "code",
   "execution_count": null,
   "metadata": {},
   "outputs": [],
   "source": [
    "fdist5 = FreqDist(text5)\n",
    "sorted(w for w in set(text5) if len(w) > 7 and fdist5[w] > 7) #len(w) > 7 ensures that the words are longer than seven letters, and fdist5[w] > 7 ensures that these words occur more than seven times"
   ]
  },
  {
   "cell_type": "code",
   "execution_count": 2,
   "metadata": {},
   "outputs": [
    {
     "data": {
      "text/plain": [
       "['austen-emma.txt',\n",
       " 'austen-persuasion.txt',\n",
       " 'austen-sense.txt',\n",
       " 'bible-kjv.txt',\n",
       " 'blake-poems.txt',\n",
       " 'bryant-stories.txt',\n",
       " 'burgess-busterbrown.txt',\n",
       " 'carroll-alice.txt',\n",
       " 'chesterton-ball.txt',\n",
       " 'chesterton-brown.txt',\n",
       " 'chesterton-thursday.txt',\n",
       " 'edgeworth-parents.txt',\n",
       " 'melville-moby_dick.txt',\n",
       " 'milton-paradise.txt',\n",
       " 'shakespeare-caesar.txt',\n",
       " 'shakespeare-hamlet.txt',\n",
       " 'shakespeare-macbeth.txt',\n",
       " 'whitman-leaves.txt']"
      ]
     },
     "execution_count": 2,
     "metadata": {},
     "output_type": "execute_result"
    }
   ],
   "source": [
    "import nltk\n",
    "nltk.corpus.gutenberg.fileids()"
   ]
  },
  {
   "cell_type": "code",
   "execution_count": null,
   "metadata": {},
   "outputs": [],
   "source": [
    "emma= nltk.corpus.gutenberg.words(\"austen-emma.txt\") #Let's pick out the first of these texts — Emma by Jane Austen — and give it a short name, emma, then find out how many words it contains\n",
    "len(emma)\n"
   ]
  },
  {
   "cell_type": "markdown",
   "metadata": {},
   "source": [
    "Pour pouvoir utiliser les fonctions précendentes utilisées sur les texts genre text1.concordance(), il faut que je convertisse ces corpus en 'text'\n"
   ]
  },
  {
   "cell_type": "code",
   "execution_count": 6,
   "metadata": {},
   "outputs": [
    {
     "name": "stdout",
     "output_type": "stream",
     "text": [
      "Displaying 25 of 72 matches:\n",
      "ouse from a very early period . Her mother had died too long ago for her to ha\n",
      " , who had fallen little short of a mother in affection . Sixteen years had Mi\n",
      "claim of a lingering illness of his mother ' s , been the means of a sort of r\n",
      "tood that he had written to his new mother on the occasion . For a few days , \n",
      "as devoted to the care of a failing mother , and the endeavour to make a small\n",
      "with blessings in such an excellent mother , and so many good neighbours and f\n",
      "up a wrong idea , fancying it was a mother and daughter , a son and son ' s wi\n",
      " every body spoke well of him . His mother and sisters were very fond of him .\n",
      ". That is too young to settle . His mother is perfectly right not to be in a h\n",
      "f the house and of you all . In her mother she lost the only person able to co\n",
      "to cope with her . She inherits her mother ' s talents , and must have been un\n",
      "e privilege of speech that Emma ' s mother might have had ) the liberty of hin\n",
      "y , and thought so much of what his mother and sisters would think and say , a\n",
      "lton is shewing your picture to his mother and sisters , telling how much more\n",
      " see who you take after ! Your dear mother was so clever at all those things !\n",
      "family ; a devoted wife , a doating mother , and so tenderly attached to her f\n",
      "two years old when he lost his poor mother ! Well , time does fly indeed !-- a\n",
      " and quick feelings : standing in a mother ' s place , but without a mother ' \n",
      " a mother ' s place , but without a mother ' s affection to blind her . It is \n",
      ", cheerful communications about her mother ' s , and sweet - cake from the bea\n",
      "away , I was reading it again to my mother , for it is such a pleasure to her \n",
      "e whole paper and crosses half . My mother often wonders that I can make it ou\n",
      "ery word . And , indeed , though my mother ' s eyes are not so good as they we\n",
      "tacles . It is such a blessing ! My mother ' s are really very good indeed . J\n",
      "pleasure as Miss Woodhouse ' s . My mother does not hear ; she is a little dea\n"
     ]
    }
   ],
   "source": [
    "emma= nltk.Text(nltk.corpus.gutenberg.words(\"austen-emma.txt\"))\n",
    "emma.concordance(\"mother\")"
   ]
  },
  {
   "cell_type": "markdown",
   "metadata": {},
   "source": [
    "**Accessing text Corpora**\n",
    "\n",
    "Un corpus c'est un ensemble de textes. *(corpora= pluriel de corpus)*. \n",
    "\n",
    "**Gutemberg Corpus**\n",
    "25 000 e-books hebergés sur http://www.gutemberg.org/ "
   ]
  },
  {
   "cell_type": "code",
   "execution_count": 1,
   "metadata": {},
   "outputs": [
    {
     "data": {
      "text/plain": [
       "['austen-emma.txt',\n",
       " 'austen-persuasion.txt',\n",
       " 'austen-sense.txt',\n",
       " 'bible-kjv.txt',\n",
       " 'blake-poems.txt',\n",
       " 'bryant-stories.txt',\n",
       " 'burgess-busterbrown.txt',\n",
       " 'carroll-alice.txt',\n",
       " 'chesterton-ball.txt',\n",
       " 'chesterton-brown.txt',\n",
       " 'chesterton-thursday.txt',\n",
       " 'edgeworth-parents.txt',\n",
       " 'melville-moby_dick.txt',\n",
       " 'milton-paradise.txt',\n",
       " 'shakespeare-caesar.txt',\n",
       " 'shakespeare-hamlet.txt',\n",
       " 'shakespeare-macbeth.txt',\n",
       " 'whitman-leaves.txt']"
      ]
     },
     "execution_count": 1,
     "metadata": {},
     "output_type": "execute_result"
    }
   ],
   "source": [
    "import nltk\n",
    "nltk.corpus.gutenberg.fileids()"
   ]
  },
  {
   "cell_type": "code",
   "execution_count": 6,
   "metadata": {},
   "outputs": [
    {
     "name": "stdout",
     "output_type": "stream",
     "text": [
      "Displaying 25 of 37 matches:\n",
      "er father , was sometimes taken by surprize at his being still able to pity ` \n",
      "hem do the other any good .\" \" You surprize me ! Emma must do Harriet good : a\n",
      "Knightley actually looked red with surprize and displeasure , as he stood up ,\n",
      "r . Elton , and found to his great surprize , that Mr . Elton was actually on \n",
      "d aid .\" Emma saw Mrs . Weston ' s surprize , and felt that it must be great ,\n",
      "father was quite taken up with the surprize of so sudden a journey , and his f\n",
      "y , in all the favouring warmth of surprize and conjecture . She was , moreove\n",
      "he appeared , to have her share of surprize , introduction , and pleasure . Th\n",
      "ir plans ; and it was an agreeable surprize to her , therefore , to perceive t\n",
      "talking aunt had taken me quite by surprize , it must have been the death of m\n",
      "f all the dialogue which ensued of surprize , and inquiry , and congratulation\n",
      " the present . They might chuse to surprize her .\" Mrs . Cole had many to agre\n",
      "the mode of it , the mystery , the surprize , is more like a young woman ' s s\n",
      " to her song took her agreeably by surprize -- a second , slightly but correct\n",
      "\" \" Oh ! no -- there is nothing to surprize one at all .-- A pretty fortune ; \n",
      "t to be considered . Emma ' s only surprize was that Jane Fairfax should accep\n",
      "of your admiration may take you by surprize some day or other .\" Mr . Knightle\n",
      "ation for her will ever take me by surprize .-- I never had a thought of her i\n",
      " expected by the best judges , for surprize -- but there was great joy . Mr . \n",
      " sound of at first , without great surprize . \" So unreasonably early !\" she w\n",
      "d Frank Churchill , with a look of surprize and displeasure .-- \" That is easy\n",
      "; and Emma could imagine with what surprize and mortification she must be retu\n",
      "tled that Jane should go . Quite a surprize to me ! I had not the least idea !\n",
      " . It is impossible to express our surprize . He came to speak to his father o\n",
      "g engaged !\" Emma even jumped with surprize ;-- and , horror - struck , exclai\n"
     ]
    }
   ],
   "source": [
    "emma = nltk.corpus.gutenberg.words('austen-emma.txt')\n",
    "\n",
    "emma = nltk.Text(nltk.corpus.gutenberg.words('austen-emma.txt'))\n",
    "emma.concordance(\"surprize\")"
   ]
  },
  {
   "cell_type": "code",
   "execution_count": 15,
   "metadata": {},
   "outputs": [
    {
     "name": "stdout",
     "output_type": "stream",
     "text": [
      "average word length: 5 ,average sentence length:  25 , lexical diversity score 26 in austen-emma.txt\n",
      "average word length: 5 ,average sentence length:  26 , lexical diversity score 17 in austen-persuasion.txt\n",
      "average word length: 5 ,average sentence length:  28 , lexical diversity score 22 in austen-sense.txt\n",
      "average word length: 4 ,average sentence length:  34 , lexical diversity score 79 in bible-kjv.txt\n",
      "average word length: 5 ,average sentence length:  19 , lexical diversity score 5 in blake-poems.txt\n",
      "average word length: 4 ,average sentence length:  19 , lexical diversity score 14 in bryant-stories.txt\n",
      "average word length: 4 ,average sentence length:  18 , lexical diversity score 12 in burgess-busterbrown.txt\n",
      "average word length: 4 ,average sentence length:  20 , lexical diversity score 13 in carroll-alice.txt\n",
      "average word length: 5 ,average sentence length:  20 , lexical diversity score 12 in chesterton-ball.txt\n",
      "average word length: 5 ,average sentence length:  23 , lexical diversity score 11 in chesterton-brown.txt\n",
      "average word length: 5 ,average sentence length:  18 , lexical diversity score 11 in chesterton-thursday.txt\n",
      "average word length: 4 ,average sentence length:  21 , lexical diversity score 25 in edgeworth-parents.txt\n",
      "average word length: 5 ,average sentence length:  26 , lexical diversity score 15 in melville-moby_dick.txt\n",
      "average word length: 5 ,average sentence length:  52 , lexical diversity score 11 in milton-paradise.txt\n",
      "average word length: 4 ,average sentence length:  12 , lexical diversity score 9 in shakespeare-caesar.txt\n",
      "average word length: 4 ,average sentence length:  12 , lexical diversity score 8 in shakespeare-hamlet.txt\n",
      "average word length: 4 ,average sentence length:  12 , lexical diversity score 7 in shakespeare-macbeth.txt\n",
      "average word length: 5 ,average sentence length:  36 , lexical diversity score 12 in whitman-leaves.txt\n"
     ]
    }
   ],
   "source": [
    "from nltk.corpus import gutenberg\n",
    "\n",
    "for fileid in gutenberg.fileids():\n",
    "    num_chars = len(gutenberg.raw(fileid))   # nombre de caractères\n",
    "    num_words = len(gutenberg.words(fileid)) # nombre de mots\n",
    "    num_sents = len(gutenberg.sents(fileid)) # nombre de phrases\n",
    "    num_vocab = len(set(w.lower() for w in gutenberg.words(fileid))) # calcule le nb de mots distincts dans chaque  texte\n",
    "    \n",
    "    print(\"average word length:\",round(num_chars/num_words),\",average sentence length: \" ,round(num_words/num_sents),\", lexical diversity score\",round(num_words/num_vocab), \"in\",fileid)"
   ]
  },
  {
   "cell_type": "code",
   "execution_count": 17,
   "metadata": {},
   "outputs": [],
   "source": [
    "macbeth_sentences = gutenberg.sents('shakespeare-macbeth.txt')\n",
    "longest_len = max(len(s) for s in macbeth_sentences)# cherche la taille de la phrase la plus longue\n",
    "\n",
    "phrase_longue=[s for s in macbeth_sentences if len(s) == longest_len] #va chercher la phrase elle-même à partir de sa taille"
   ]
  },
  {
   "cell_type": "markdown",
   "metadata": {},
   "source": [
    "**Web and Chat text**\n",
    "Tout ce qu'on a vu avant c'est de litterature. Il est également important de tenir compte d'un langage moins formel.\n",
    "\n",
    "NLTK's small collection of web text includes content from a Firefox discussion forum, conversations overheard in New York,  the movie script of Pirates of the Carribean,  personal advertisements, and wine reviews:"
   ]
  },
  {
   "cell_type": "code",
   "execution_count": 24,
   "metadata": {},
   "outputs": [
    {
     "name": "stdout",
     "output_type": "stream",
     "text": [
      "firefox.txt Cookie Manager: \"Don't allow sites that set r ...\n",
      "grail.txt SCENE 1: [wind] [clop clop clop] \n",
      "KING ARTHUR ...\n",
      "overheard.txt White guy: So, do you have any plans for this ...\n",
      "pirates.txt PIRATES OF THE CARRIBEAN: DEAD MAN'S CHEST, b ...\n",
      "singles.txt 25 SEXY MALE, seeks attrac older single lady, ...\n",
      "wine.txt Lovely delicate, fragrant Rhone wine. Polishe ...\n"
     ]
    }
   ],
   "source": [
    "from nltk.corpus import webtext      \n",
    "for fileid in webtext.fileids():\n",
    "    print(fileid, webtext.raw(fileid)[:45],\"...\")\n"
   ]
  },
  {
   "cell_type": "markdown",
   "metadata": {},
   "source": [
    "There is also a corpus of instant messaging chat sessions, \n",
    "originally collected by the Naval Postgraduate School for research on automatic detection \n",
    "of Internet predators\n",
    "\n",
    "The filename contains the date, chatroom, and number of posts; e.g., 10-19-20s_706posts.xml contains 706 posts gathered from the 20s chat room on 10/19/2006"
   ]
  },
  {
   "cell_type": "code",
   "execution_count": null,
   "metadata": {},
   "outputs": [],
   "source": [
    "from nltk.corpus import nps_chat\n",
    "chatroom = nps_chat.posts('10-19-20s_706posts.xml')\n",
    "chatroom[123]"
   ]
  },
  {
   "cell_type": "markdown",
   "metadata": {},
   "source": [
    "**Brown Corpus**\n",
    "The Brown Corpus was the first million-word electronic corpus of English, created in 1961 at Brown University. This corpus contains text from 500 sources, and the sources have been categorized by genre, such as news, editorial, and so on. 1.1 gives an example of each genre\n",
    "\n",
    "\n",
    "plein d'autres corpus mais flemme\n"
   ]
  },
  {
   "cell_type": "markdown",
   "metadata": {},
   "source": [
    "** Corpora in Other Languages**\n",
    "NLTK comes with corpora for many languages, though in some cases you will need to learn how to manipulate character encodings in Python before using these corpora"
   ]
  },
  {
   "cell_type": "markdown",
   "metadata": {},
   "source": [
    "**Lexical Resources**\n",
    "A lexicon, or lexical resource, is a collection of words and/or phrases along with associated information such as part of speech and sense definitions.\n",
    "\n",
    "There is also a corpus of **stopwords**, that is, high-frequency words like the, to and also that we sometimes want to filter out of a document before further processing. Stopwords usually have little lexical content, and their presence in a text fails to distinguish it from other text"
   ]
  },
  {
   "cell_type": "code",
   "execution_count": null,
   "metadata": {},
   "outputs": [],
   "source": [
    "def content_fraction(text):  # Let's define a function to compute what fraction of words in a text are not in the stopwords list\n",
    "    stopwords = nltk.corpus.stopwords.words('english')\n",
    "    content = [w for w in text if w.lower() not in stopwords]\n",
    "    return len(content) / len(text)\n",
    "\n",
    "content_fraction(nltk.corpus.reuters.words())"
   ]
  },
  {
   "cell_type": "markdown",
   "metadata": {},
   "source": [
    "**Comparative Wordlists**\n",
    "\n",
    "Another example of a tabular lexicon is the comparative wordlist. NLTK includes so-called Swadesh wordlists, lists of about 200 common words in several languages. The languages are identified using an ISO 639 two-letter code"
   ]
  }
 ],
 "metadata": {
  "kernelspec": {
   "display_name": "Python 3",
   "language": "python",
   "name": "python3"
  },
  "language_info": {
   "codemirror_mode": {
    "name": "ipython",
    "version": 3
   },
   "file_extension": ".py",
   "mimetype": "text/x-python",
   "name": "python",
   "nbconvert_exporter": "python",
   "pygments_lexer": "ipython3",
   "version": "3.7.3"
  }
 },
 "nbformat": 4,
 "nbformat_minor": 2
}
